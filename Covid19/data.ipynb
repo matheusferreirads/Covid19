{
  "cells": [
    {
      "cell_type": "markdown",
      "metadata": {
        "id": "XMQ6b5OfzjtC"
      },
      "source": [
        "# Covid19"
      ]
    },
    {
      "cell_type": "markdown",
      "metadata": {
        "id": "DCJX9_CZzjtE"
      },
      "source": [
        "## Data Processing"
      ]
    },
    {
      "cell_type": "code",
      "execution_count": 1,
      "metadata": {
        "id": "jFlZ_rwnzjtE"
      },
      "outputs": [],
      "source": [
        "import pandas as pd\n",
        "import plotly.express as px\n",
        "import plotly.graph_objects as go\n",
        "from plotly.subplots import make_subplots\n",
        "import pyarrow\n",
        "import datetime\n",
        "import numpy as np\n",
        "import warnings\n",
        "warnings.filterwarnings('ignore')"
      ]
    },
    {
      "cell_type": "markdown",
      "metadata": {
        "id": "U40LAFakzjtF"
      },
      "source": [
        "### CSV Data to Parquet"
      ]
    },
    {
      "cell_type": "code",
      "execution_count": 2,
      "metadata": {
        "id": "W1f-1K_hzjtF"
      },
      "outputs": [],
      "source": [
        "# data_csv= pd.read_csv('Casos.csv', delimiter=';')"
      ]
    },
    {
      "cell_type": "code",
      "execution_count": 3,
      "metadata": {
        "id": "S7W4EXoyzjtF"
      },
      "outputs": [],
      "source": [
        "# data_csv.head(10)"
      ]
    },
    {
      "cell_type": "code",
      "execution_count": 4,
      "metadata": {
        "id": "U0B3quF8zjtF"
      },
      "outputs": [],
      "source": [
        "# data_csv.tail(10)"
      ]
    },
    {
      "cell_type": "code",
      "execution_count": 5,
      "metadata": {
        "id": "O0AKRQ_rzjtF"
      },
      "outputs": [],
      "source": [
        "# data_csv.shape"
      ]
    },
    {
      "cell_type": "code",
      "execution_count": 6,
      "metadata": {
        "id": "bXnME2JuzjtF"
      },
      "outputs": [],
      "source": [
        "# data_csv.dtypes"
      ]
    },
    {
      "cell_type": "code",
      "execution_count": 7,
      "metadata": {
        "id": "KPJFBrvGzjtG"
      },
      "outputs": [],
      "source": [
        "# data_csv.to_parquet('covid_data.parquet', index=False, compression='gzip')"
      ]
    },
    {
      "cell_type": "markdown",
      "metadata": {
        "id": "YkmMoLbjzjtG"
      },
      "source": [
        "### Parquet Data"
      ]
    },
    {
      "cell_type": "code",
      "execution_count": 8,
      "metadata": {
        "id": "eIq3pLM9zjtG"
      },
      "outputs": [],
      "source": [
        "data_pqt = pd.read_parquet('covid_data.parquet')"
      ]
    },
    {
      "cell_type": "code",
      "execution_count": 9,
      "metadata": {
        "colab": {
          "base_uri": "https://localhost:8080/"
        },
        "id": "lNwNallvzjtG",
        "outputId": "339f46bc-3926-420f-b122-b36199701b04"
      },
      "outputs": [
        {
          "data": {
            "text/plain": [
              "(6651049, 19)"
            ]
          },
          "execution_count": 9,
          "metadata": {},
          "output_type": "execute_result"
        }
      ],
      "source": [
        "data_pqt.shape"
      ]
    },
    {
      "cell_type": "code",
      "execution_count": 10,
      "metadata": {
        "id": "Wsb6fMtnzjtH"
      },
      "outputs": [],
      "source": [
        "data = data_pqt.copy()"
      ]
    },
    {
      "cell_type": "code",
      "execution_count": 11,
      "metadata": {
        "colab": {
          "base_uri": "https://localhost:8080/"
        },
        "id": "K_ZcUGg7zjtI",
        "outputId": "5d67aadb-0b0b-4034-e503-418b702f8876"
      },
      "outputs": [
        {
          "data": {
            "text/plain": [
              "(6651049, 19)"
            ]
          },
          "execution_count": 11,
          "metadata": {},
          "output_type": "execute_result"
        }
      ],
      "source": [
        "data.shape"
      ]
    },
    {
      "cell_type": "code",
      "execution_count": 12,
      "metadata": {
        "colab": {
          "base_uri": "https://localhost:8080/"
        },
        "id": "ME8PkvedzjtI",
        "outputId": "0a3a2acd-c02e-4a7e-e427-90478cf20041"
      },
      "outputs": [
        {
          "data": {
            "text/plain": [
              "Asma                            0\n",
              "Cardiopatia                     0\n",
              "Data_Inicio_Sintomas       235275\n",
              "Diabetes                        0\n",
              "Diagnostico_Covid19             0\n",
              "Doenca_Hematologica             0\n",
              "Doenca_Hepatica                 0\n",
              "Doenca_Neurologica              0\n",
              "Doenca Renal                    0\n",
              "Genero                          1\n",
              "Idade                      211965\n",
              "Imunodepressao                  0\n",
              "Municipio                       0\n",
              "Obesidade                       0\n",
              "Obito                           0\n",
              "Outros_Fatores_De_Risco         0\n",
              "Pneumopatia                     0\n",
              "Puérpera                        0\n",
              "Síndrome_De_Down                0\n",
              "dtype: int64"
            ]
          },
          "execution_count": 12,
          "metadata": {},
          "output_type": "execute_result"
        }
      ],
      "source": [
        "data.isnull().sum()"
      ]
    },
    {
      "cell_type": "code",
      "execution_count": 13,
      "metadata": {
        "id": "fzOj9nzwzjtI"
      },
      "outputs": [],
      "source": [
        "data = data.dropna(subset=['Idade', 'Genero'])"
      ]
    },
    {
      "cell_type": "code",
      "execution_count": 14,
      "metadata": {
        "colab": {
          "base_uri": "https://localhost:8080/"
        },
        "id": "imtWT1KyzjtI",
        "outputId": "58141d12-7027-4ab4-d7d6-2d986d4ad912"
      },
      "outputs": [
        {
          "data": {
            "text/plain": [
              "Asma                           0\n",
              "Cardiopatia                    0\n",
              "Data_Inicio_Sintomas       30278\n",
              "Diabetes                       0\n",
              "Diagnostico_Covid19            0\n",
              "Doenca_Hematologica            0\n",
              "Doenca_Hepatica                0\n",
              "Doenca_Neurologica             0\n",
              "Doenca Renal                   0\n",
              "Genero                         0\n",
              "Idade                          0\n",
              "Imunodepressao                 0\n",
              "Municipio                      0\n",
              "Obesidade                      0\n",
              "Obito                          0\n",
              "Outros_Fatores_De_Risco        0\n",
              "Pneumopatia                    0\n",
              "Puérpera                       0\n",
              "Síndrome_De_Down               0\n",
              "dtype: int64"
            ]
          },
          "execution_count": 14,
          "metadata": {},
          "output_type": "execute_result"
        }
      ],
      "source": [
        "data.isnull().sum()"
      ]
    },
    {
      "cell_type": "code",
      "execution_count": 15,
      "metadata": {
        "colab": {
          "base_uri": "https://localhost:8080/"
        },
        "id": "wxN5fdWRzjtI",
        "outputId": "0a79e2d4-4370-4b16-ea8e-cad8c757ccdd"
      },
      "outputs": [
        {
          "data": {
            "text/plain": [
              "Asma                          3\n",
              "Cardiopatia                   3\n",
              "Data_Inicio_Sintomas       1280\n",
              "Diabetes                      3\n",
              "Diagnostico_Covid19           1\n",
              "Doenca_Hematologica           3\n",
              "Doenca_Hepatica               3\n",
              "Doenca_Neurologica            3\n",
              "Doenca Renal                  3\n",
              "Genero                        4\n",
              "Idade                       126\n",
              "Imunodepressao                3\n",
              "Municipio                   646\n",
              "Obesidade                     3\n",
              "Obito                         2\n",
              "Outros_Fatores_De_Risco       3\n",
              "Pneumopatia                   3\n",
              "Puérpera                      3\n",
              "Síndrome_De_Down              3\n",
              "dtype: int64"
            ]
          },
          "execution_count": 15,
          "metadata": {},
          "output_type": "execute_result"
        }
      ],
      "source": [
        "data.nunique()"
      ]
    },
    {
      "cell_type": "code",
      "execution_count": 16,
      "metadata": {
        "id": "tX1QkoOCzjtJ"
      },
      "outputs": [],
      "source": [
        "data['Data_Inicio_Sintomas'] = pd.to_datetime(data['Data_Inicio_Sintomas'], errors='coerce')"
      ]
    },
    {
      "cell_type": "code",
      "execution_count": 17,
      "metadata": {
        "colab": {
          "base_uri": "https://localhost:8080/"
        },
        "id": "zI3YxcZ0zjtJ",
        "outputId": "c6472f7b-514c-4466-d476-8fd142321f4f"
      },
      "outputs": [
        {
          "data": {
            "text/plain": [
              "Asma                           0\n",
              "Cardiopatia                    0\n",
              "Data_Inicio_Sintomas       30278\n",
              "Diabetes                       0\n",
              "Diagnostico_Covid19            0\n",
              "Doenca_Hematologica            0\n",
              "Doenca_Hepatica                0\n",
              "Doenca_Neurologica             0\n",
              "Doenca Renal                   0\n",
              "Genero                         0\n",
              "Idade                          0\n",
              "Imunodepressao                 0\n",
              "Municipio                      0\n",
              "Obesidade                      0\n",
              "Obito                          0\n",
              "Outros_Fatores_De_Risco        0\n",
              "Pneumopatia                    0\n",
              "Puérpera                       0\n",
              "Síndrome_De_Down               0\n",
              "dtype: int64"
            ]
          },
          "execution_count": 17,
          "metadata": {},
          "output_type": "execute_result"
        }
      ],
      "source": [
        "data.isnull().sum()"
      ]
    },
    {
      "cell_type": "code",
      "execution_count": 18,
      "metadata": {
        "colab": {
          "base_uri": "https://localhost:8080/"
        },
        "id": "HpyCn98czjtJ",
        "outputId": "5dbb302b-5e4a-49c6-b4c4-dbad4e721bc2"
      },
      "outputs": [
        {
          "data": {
            "text/plain": [
              "count    6.439083e+06\n",
              "mean     4.104578e+01\n",
              "std      1.843468e+01\n",
              "min      0.000000e+00\n",
              "25%      2.800000e+01\n",
              "50%      4.000000e+01\n",
              "75%      5.300000e+01\n",
              "max      2.188000e+03\n",
              "Name: Idade, dtype: float64"
            ]
          },
          "execution_count": 18,
          "metadata": {},
          "output_type": "execute_result"
        }
      ],
      "source": [
        "data['Idade'].describe()"
      ]
    },
    {
      "cell_type": "code",
      "execution_count": 19,
      "metadata": {
        "colab": {
          "base_uri": "https://localhost:8080/"
        },
        "id": "MtVccVy1zjtJ",
        "outputId": "fc0f5136-64f2-408d-ecf4-1a8e85c1424a"
      },
      "outputs": [
        {
          "data": {
            "text/plain": [
              "0          69.0\n",
              "1          60.0\n",
              "2          58.0\n",
              "3          45.0\n",
              "4          42.0\n",
              "           ... \n",
              "6651044     1.0\n",
              "6651045     9.0\n",
              "6651046     0.0\n",
              "6651047    77.0\n",
              "6651048    35.0\n",
              "Name: Idade, Length: 6439083, dtype: float64"
            ]
          },
          "execution_count": 19,
          "metadata": {},
          "output_type": "execute_result"
        }
      ],
      "source": [
        "data['Idade']"
      ]
    },
    {
      "cell_type": "code",
      "execution_count": 20,
      "metadata": {
        "id": "O9Y0wvsjzjtJ"
      },
      "outputs": [],
      "source": [
        "data['Idade'] = data['Idade'].astype(int)"
      ]
    },
    {
      "cell_type": "code",
      "execution_count": 21,
      "metadata": {
        "colab": {
          "base_uri": "https://localhost:8080/"
        },
        "id": "z4J_5yRozjtJ",
        "outputId": "e0ece5ad-5ad3-48db-cbd4-dd15a2f4fb80"
      },
      "outputs": [
        {
          "data": {
            "text/plain": [
              "0          69\n",
              "1          60\n",
              "2          58\n",
              "3          45\n",
              "4          42\n",
              "           ..\n",
              "6651044     1\n",
              "6651045     9\n",
              "6651046     0\n",
              "6651047    77\n",
              "6651048    35\n",
              "Name: Idade, Length: 6439083, dtype: int32"
            ]
          },
          "execution_count": 21,
          "metadata": {},
          "output_type": "execute_result"
        }
      ],
      "source": [
        "data['Idade']"
      ]
    },
    {
      "cell_type": "code",
      "execution_count": 22,
      "metadata": {
        "id": "f9838iCvzjtK"
      },
      "outputs": [],
      "source": [
        "data =  data[data['Idade'] <  110]"
      ]
    },
    {
      "cell_type": "code",
      "execution_count": 23,
      "metadata": {
        "colab": {
          "base_uri": "https://localhost:8080/",
          "height": 211
        },
        "id": "fg9Sfpl7zjtK",
        "outputId": "c383f134-3ed5-4c01-e220-f61a688e6c0d"
      },
      "outputs": [
        {
          "data": {
            "text/html": [
              "<div>\n",
              "<style scoped>\n",
              "    .dataframe tbody tr th:only-of-type {\n",
              "        vertical-align: middle;\n",
              "    }\n",
              "\n",
              "    .dataframe tbody tr th {\n",
              "        vertical-align: top;\n",
              "    }\n",
              "\n",
              "    .dataframe thead th {\n",
              "        text-align: right;\n",
              "    }\n",
              "</style>\n",
              "<table border=\"1\" class=\"dataframe\">\n",
              "  <thead>\n",
              "    <tr style=\"text-align: right;\">\n",
              "      <th></th>\n",
              "      <th>Asma</th>\n",
              "      <th>Cardiopatia</th>\n",
              "      <th>Data_Inicio_Sintomas</th>\n",
              "      <th>Diabetes</th>\n",
              "      <th>Diagnostico_Covid19</th>\n",
              "      <th>Doenca_Hematologica</th>\n",
              "      <th>Doenca_Hepatica</th>\n",
              "      <th>Doenca_Neurologica</th>\n",
              "      <th>Doenca Renal</th>\n",
              "      <th>Genero</th>\n",
              "      <th>Idade</th>\n",
              "      <th>Imunodepressao</th>\n",
              "      <th>Municipio</th>\n",
              "      <th>Obesidade</th>\n",
              "      <th>Obito</th>\n",
              "      <th>Outros_Fatores_De_Risco</th>\n",
              "      <th>Pneumopatia</th>\n",
              "      <th>Puérpera</th>\n",
              "      <th>Síndrome_De_Down</th>\n",
              "    </tr>\n",
              "  </thead>\n",
              "  <tbody>\n",
              "    <tr>\n",
              "      <th>0</th>\n",
              "      <td>IGNORADO</td>\n",
              "      <td>IGNORADO</td>\n",
              "      <td>2022-07-15</td>\n",
              "      <td>IGNORADO</td>\n",
              "      <td>CONFIRMADO</td>\n",
              "      <td>IGNORADO</td>\n",
              "      <td>IGNORADO</td>\n",
              "      <td>IGNORADO</td>\n",
              "      <td>IGNORADO</td>\n",
              "      <td>MASCULINO</td>\n",
              "      <td>69</td>\n",
              "      <td>IGNORADO</td>\n",
              "      <td>ASSIS</td>\n",
              "      <td>IGNORADO</td>\n",
              "      <td>0</td>\n",
              "      <td>IGNORADO</td>\n",
              "      <td>IGNORADO</td>\n",
              "      <td>IGNORADO</td>\n",
              "      <td>IGNORADO</td>\n",
              "    </tr>\n",
              "    <tr>\n",
              "      <th>1</th>\n",
              "      <td>IGNORADO</td>\n",
              "      <td>IGNORADO</td>\n",
              "      <td>2021-02-21</td>\n",
              "      <td>IGNORADO</td>\n",
              "      <td>CONFIRMADO</td>\n",
              "      <td>IGNORADO</td>\n",
              "      <td>IGNORADO</td>\n",
              "      <td>IGNORADO</td>\n",
              "      <td>IGNORADO</td>\n",
              "      <td>FEMININO</td>\n",
              "      <td>60</td>\n",
              "      <td>IGNORADO</td>\n",
              "      <td>SÃO PAULO</td>\n",
              "      <td>IGNORADO</td>\n",
              "      <td>0</td>\n",
              "      <td>IGNORADO</td>\n",
              "      <td>IGNORADO</td>\n",
              "      <td>IGNORADO</td>\n",
              "      <td>IGNORADO</td>\n",
              "    </tr>\n",
              "  </tbody>\n",
              "</table>\n",
              "</div>"
            ],
            "text/plain": [
              "       Asma Cardiopatia Data_Inicio_Sintomas  Diabetes Diagnostico_Covid19  \\\n",
              "0  IGNORADO    IGNORADO           2022-07-15  IGNORADO          CONFIRMADO   \n",
              "1  IGNORADO    IGNORADO           2021-02-21  IGNORADO          CONFIRMADO   \n",
              "\n",
              "  Doenca_Hematologica Doenca_Hepatica Doenca_Neurologica Doenca Renal  \\\n",
              "0            IGNORADO        IGNORADO           IGNORADO     IGNORADO   \n",
              "1            IGNORADO        IGNORADO           IGNORADO     IGNORADO   \n",
              "\n",
              "      Genero  Idade Imunodepressao  Municipio Obesidade  Obito  \\\n",
              "0  MASCULINO     69       IGNORADO      ASSIS  IGNORADO      0   \n",
              "1   FEMININO     60       IGNORADO  SÃO PAULO  IGNORADO      0   \n",
              "\n",
              "  Outros_Fatores_De_Risco Pneumopatia  Puérpera Síndrome_De_Down  \n",
              "0                IGNORADO    IGNORADO  IGNORADO         IGNORADO  \n",
              "1                IGNORADO    IGNORADO  IGNORADO         IGNORADO  "
            ]
          },
          "execution_count": 23,
          "metadata": {},
          "output_type": "execute_result"
        }
      ],
      "source": [
        "data.head(2)"
      ]
    },
    {
      "cell_type": "code",
      "execution_count": 24,
      "metadata": {
        "colab": {
          "base_uri": "https://localhost:8080/"
        },
        "id": "GTOpXlCqzjtK",
        "outputId": "c921a499-baf9-4d1f-9d6b-251cb8974e50"
      },
      "outputs": [
        {
          "data": {
            "text/plain": [
              "array(['MASCULINO', 'FEMININO', 'INDEFINIDO', 'IGNORADO'], dtype=object)"
            ]
          },
          "execution_count": 24,
          "metadata": {},
          "output_type": "execute_result"
        }
      ],
      "source": [
        "data['Genero'].unique()"
      ]
    },
    {
      "cell_type": "code",
      "execution_count": 25,
      "metadata": {
        "id": "kisA2Ee4zjtK"
      },
      "outputs": [],
      "source": [
        "data = data[data['Genero'].isin(['MASCULINO', 'FEMININO'])]"
      ]
    },
    {
      "cell_type": "code",
      "execution_count": 26,
      "metadata": {
        "colab": {
          "base_uri": "https://localhost:8080/",
          "height": 211
        },
        "id": "sx0SYrqmzjtK",
        "outputId": "057ed83c-e2be-436c-9227-39cb0db0c7ed"
      },
      "outputs": [
        {
          "data": {
            "text/html": [
              "<div>\n",
              "<style scoped>\n",
              "    .dataframe tbody tr th:only-of-type {\n",
              "        vertical-align: middle;\n",
              "    }\n",
              "\n",
              "    .dataframe tbody tr th {\n",
              "        vertical-align: top;\n",
              "    }\n",
              "\n",
              "    .dataframe thead th {\n",
              "        text-align: right;\n",
              "    }\n",
              "</style>\n",
              "<table border=\"1\" class=\"dataframe\">\n",
              "  <thead>\n",
              "    <tr style=\"text-align: right;\">\n",
              "      <th></th>\n",
              "      <th>Asma</th>\n",
              "      <th>Cardiopatia</th>\n",
              "      <th>Data_Inicio_Sintomas</th>\n",
              "      <th>Diabetes</th>\n",
              "      <th>Diagnostico_Covid19</th>\n",
              "      <th>Doenca_Hematologica</th>\n",
              "      <th>Doenca_Hepatica</th>\n",
              "      <th>Doenca_Neurologica</th>\n",
              "      <th>Doenca Renal</th>\n",
              "      <th>Genero</th>\n",
              "      <th>Idade</th>\n",
              "      <th>Imunodepressao</th>\n",
              "      <th>Municipio</th>\n",
              "      <th>Obesidade</th>\n",
              "      <th>Obito</th>\n",
              "      <th>Outros_Fatores_De_Risco</th>\n",
              "      <th>Pneumopatia</th>\n",
              "      <th>Puérpera</th>\n",
              "      <th>Síndrome_De_Down</th>\n",
              "    </tr>\n",
              "  </thead>\n",
              "  <tbody>\n",
              "    <tr>\n",
              "      <th>0</th>\n",
              "      <td>IGNORADO</td>\n",
              "      <td>IGNORADO</td>\n",
              "      <td>2022-07-15</td>\n",
              "      <td>IGNORADO</td>\n",
              "      <td>CONFIRMADO</td>\n",
              "      <td>IGNORADO</td>\n",
              "      <td>IGNORADO</td>\n",
              "      <td>IGNORADO</td>\n",
              "      <td>IGNORADO</td>\n",
              "      <td>MASCULINO</td>\n",
              "      <td>69</td>\n",
              "      <td>IGNORADO</td>\n",
              "      <td>ASSIS</td>\n",
              "      <td>IGNORADO</td>\n",
              "      <td>0</td>\n",
              "      <td>IGNORADO</td>\n",
              "      <td>IGNORADO</td>\n",
              "      <td>IGNORADO</td>\n",
              "      <td>IGNORADO</td>\n",
              "    </tr>\n",
              "    <tr>\n",
              "      <th>1</th>\n",
              "      <td>IGNORADO</td>\n",
              "      <td>IGNORADO</td>\n",
              "      <td>2021-02-21</td>\n",
              "      <td>IGNORADO</td>\n",
              "      <td>CONFIRMADO</td>\n",
              "      <td>IGNORADO</td>\n",
              "      <td>IGNORADO</td>\n",
              "      <td>IGNORADO</td>\n",
              "      <td>IGNORADO</td>\n",
              "      <td>FEMININO</td>\n",
              "      <td>60</td>\n",
              "      <td>IGNORADO</td>\n",
              "      <td>SÃO PAULO</td>\n",
              "      <td>IGNORADO</td>\n",
              "      <td>0</td>\n",
              "      <td>IGNORADO</td>\n",
              "      <td>IGNORADO</td>\n",
              "      <td>IGNORADO</td>\n",
              "      <td>IGNORADO</td>\n",
              "    </tr>\n",
              "  </tbody>\n",
              "</table>\n",
              "</div>"
            ],
            "text/plain": [
              "       Asma Cardiopatia Data_Inicio_Sintomas  Diabetes Diagnostico_Covid19  \\\n",
              "0  IGNORADO    IGNORADO           2022-07-15  IGNORADO          CONFIRMADO   \n",
              "1  IGNORADO    IGNORADO           2021-02-21  IGNORADO          CONFIRMADO   \n",
              "\n",
              "  Doenca_Hematologica Doenca_Hepatica Doenca_Neurologica Doenca Renal  \\\n",
              "0            IGNORADO        IGNORADO           IGNORADO     IGNORADO   \n",
              "1            IGNORADO        IGNORADO           IGNORADO     IGNORADO   \n",
              "\n",
              "      Genero  Idade Imunodepressao  Municipio Obesidade  Obito  \\\n",
              "0  MASCULINO     69       IGNORADO      ASSIS  IGNORADO      0   \n",
              "1   FEMININO     60       IGNORADO  SÃO PAULO  IGNORADO      0   \n",
              "\n",
              "  Outros_Fatores_De_Risco Pneumopatia  Puérpera Síndrome_De_Down  \n",
              "0                IGNORADO    IGNORADO  IGNORADO         IGNORADO  \n",
              "1                IGNORADO    IGNORADO  IGNORADO         IGNORADO  "
            ]
          },
          "execution_count": 26,
          "metadata": {},
          "output_type": "execute_result"
        }
      ],
      "source": [
        "data.head(2)"
      ]
    },
    {
      "cell_type": "markdown",
      "metadata": {
        "id": "6v_RjjBVzjtL"
      },
      "source": [
        "## Solving"
      ]
    },
    {
      "cell_type": "markdown",
      "metadata": {
        "id": "ELZvY2x2zjtL"
      },
      "source": [
        "### 1 - Existe diferença de incidência de covid entre homens e mulheres?"
      ]
    },
    {
      "cell_type": "code",
      "execution_count": 27,
      "metadata": {
        "id": "9AJ4w3-UzjtL"
      },
      "outputs": [],
      "source": [
        "gen_graph_data = data['Genero'].value_counts().sort_index().reset_index()\n",
        "gen_graph_data.columns = ['Genero', 'Casos']"
      ]
    },
    {
      "cell_type": "code",
      "execution_count": 28,
      "metadata": {
        "colab": {
          "base_uri": "https://localhost:8080/",
          "height": 112
        },
        "id": "oHBQ6LBTzjtM",
        "outputId": "e94caafd-63d2-4123-e0b9-44e642e387f3"
      },
      "outputs": [
        {
          "data": {
            "text/html": [
              "<div>\n",
              "<style scoped>\n",
              "    .dataframe tbody tr th:only-of-type {\n",
              "        vertical-align: middle;\n",
              "    }\n",
              "\n",
              "    .dataframe tbody tr th {\n",
              "        vertical-align: top;\n",
              "    }\n",
              "\n",
              "    .dataframe thead th {\n",
              "        text-align: right;\n",
              "    }\n",
              "</style>\n",
              "<table border=\"1\" class=\"dataframe\">\n",
              "  <thead>\n",
              "    <tr style=\"text-align: right;\">\n",
              "      <th></th>\n",
              "      <th>Genero</th>\n",
              "      <th>Casos</th>\n",
              "    </tr>\n",
              "  </thead>\n",
              "  <tbody>\n",
              "    <tr>\n",
              "      <th>0</th>\n",
              "      <td>FEMININO</td>\n",
              "      <td>3526809</td>\n",
              "    </tr>\n",
              "    <tr>\n",
              "      <th>1</th>\n",
              "      <td>MASCULINO</td>\n",
              "      <td>2908574</td>\n",
              "    </tr>\n",
              "  </tbody>\n",
              "</table>\n",
              "</div>"
            ],
            "text/plain": [
              "      Genero    Casos\n",
              "0   FEMININO  3526809\n",
              "1  MASCULINO  2908574"
            ]
          },
          "execution_count": 28,
          "metadata": {},
          "output_type": "execute_result"
        }
      ],
      "source": [
        "gen_graph_data"
      ]
    },
    {
      "cell_type": "code",
      "execution_count": 29,
      "metadata": {
        "colab": {
          "base_uri": "https://localhost:8080/",
          "height": 417
        },
        "id": "IDEUJP7FzjtM",
        "outputId": "590b7f16-da6f-4dcb-c488-a66fb7e6212c"
      },
      "outputs": [
        {
          "data": {
            "application/vnd.plotly.v1+json": {
              "config": {
                "plotlyServerURL": "https://plot.ly"
              },
              "data": [
                {
                  "alignmentgroup": "True",
                  "hovertemplate": "Genero=%{x}<br>Casos=%{y}<extra></extra>",
                  "legendgroup": "",
                  "marker": {
                    "color": "rgb(251,180,174)",
                    "pattern": {
                      "shape": ""
                    }
                  },
                  "name": "",
                  "offsetgroup": "",
                  "orientation": "v",
                  "showlegend": false,
                  "textfont": {
                    "size": 15
                  },
                  "textposition": "auto",
                  "texttemplate": "%{y:.2s}",
                  "type": "bar",
                  "x": [
                    "FEMININO",
                    "MASCULINO"
                  ],
                  "xaxis": "x",
                  "y": [
                    3526809,
                    2908574
                  ],
                  "yaxis": "y"
                }
              ],
              "layout": {
                "annotations": [
                  {
                    "font": {
                      "color": "black",
                      "size": 12
                    },
                    "showarrow": false,
                    "text": "<b>Total: 6.4M<b>",
                    "x": 1,
                    "y": 3300000
                  }
                ],
                "barmode": "relative",
                "height": 400,
                "legend": {
                  "tracegroupgap": 0
                },
                "margin": {
                  "t": 60
                },
                "template": {
                  "data": {
                    "bar": [
                      {
                        "error_x": {
                          "color": "#2a3f5f"
                        },
                        "error_y": {
                          "color": "#2a3f5f"
                        },
                        "marker": {
                          "line": {
                            "color": "#E5ECF6",
                            "width": 0.5
                          },
                          "pattern": {
                            "fillmode": "overlay",
                            "size": 10,
                            "solidity": 0.2
                          }
                        },
                        "type": "bar"
                      }
                    ],
                    "barpolar": [
                      {
                        "marker": {
                          "line": {
                            "color": "#E5ECF6",
                            "width": 0.5
                          },
                          "pattern": {
                            "fillmode": "overlay",
                            "size": 10,
                            "solidity": 0.2
                          }
                        },
                        "type": "barpolar"
                      }
                    ],
                    "carpet": [
                      {
                        "aaxis": {
                          "endlinecolor": "#2a3f5f",
                          "gridcolor": "white",
                          "linecolor": "white",
                          "minorgridcolor": "white",
                          "startlinecolor": "#2a3f5f"
                        },
                        "baxis": {
                          "endlinecolor": "#2a3f5f",
                          "gridcolor": "white",
                          "linecolor": "white",
                          "minorgridcolor": "white",
                          "startlinecolor": "#2a3f5f"
                        },
                        "type": "carpet"
                      }
                    ],
                    "choropleth": [
                      {
                        "colorbar": {
                          "outlinewidth": 0,
                          "ticks": ""
                        },
                        "type": "choropleth"
                      }
                    ],
                    "contour": [
                      {
                        "colorbar": {
                          "outlinewidth": 0,
                          "ticks": ""
                        },
                        "colorscale": [
                          [
                            0,
                            "#0d0887"
                          ],
                          [
                            0.1111111111111111,
                            "#46039f"
                          ],
                          [
                            0.2222222222222222,
                            "#7201a8"
                          ],
                          [
                            0.3333333333333333,
                            "#9c179e"
                          ],
                          [
                            0.4444444444444444,
                            "#bd3786"
                          ],
                          [
                            0.5555555555555556,
                            "#d8576b"
                          ],
                          [
                            0.6666666666666666,
                            "#ed7953"
                          ],
                          [
                            0.7777777777777778,
                            "#fb9f3a"
                          ],
                          [
                            0.8888888888888888,
                            "#fdca26"
                          ],
                          [
                            1,
                            "#f0f921"
                          ]
                        ],
                        "type": "contour"
                      }
                    ],
                    "contourcarpet": [
                      {
                        "colorbar": {
                          "outlinewidth": 0,
                          "ticks": ""
                        },
                        "type": "contourcarpet"
                      }
                    ],
                    "heatmap": [
                      {
                        "colorbar": {
                          "outlinewidth": 0,
                          "ticks": ""
                        },
                        "colorscale": [
                          [
                            0,
                            "#0d0887"
                          ],
                          [
                            0.1111111111111111,
                            "#46039f"
                          ],
                          [
                            0.2222222222222222,
                            "#7201a8"
                          ],
                          [
                            0.3333333333333333,
                            "#9c179e"
                          ],
                          [
                            0.4444444444444444,
                            "#bd3786"
                          ],
                          [
                            0.5555555555555556,
                            "#d8576b"
                          ],
                          [
                            0.6666666666666666,
                            "#ed7953"
                          ],
                          [
                            0.7777777777777778,
                            "#fb9f3a"
                          ],
                          [
                            0.8888888888888888,
                            "#fdca26"
                          ],
                          [
                            1,
                            "#f0f921"
                          ]
                        ],
                        "type": "heatmap"
                      }
                    ],
                    "heatmapgl": [
                      {
                        "colorbar": {
                          "outlinewidth": 0,
                          "ticks": ""
                        },
                        "colorscale": [
                          [
                            0,
                            "#0d0887"
                          ],
                          [
                            0.1111111111111111,
                            "#46039f"
                          ],
                          [
                            0.2222222222222222,
                            "#7201a8"
                          ],
                          [
                            0.3333333333333333,
                            "#9c179e"
                          ],
                          [
                            0.4444444444444444,
                            "#bd3786"
                          ],
                          [
                            0.5555555555555556,
                            "#d8576b"
                          ],
                          [
                            0.6666666666666666,
                            "#ed7953"
                          ],
                          [
                            0.7777777777777778,
                            "#fb9f3a"
                          ],
                          [
                            0.8888888888888888,
                            "#fdca26"
                          ],
                          [
                            1,
                            "#f0f921"
                          ]
                        ],
                        "type": "heatmapgl"
                      }
                    ],
                    "histogram": [
                      {
                        "marker": {
                          "pattern": {
                            "fillmode": "overlay",
                            "size": 10,
                            "solidity": 0.2
                          }
                        },
                        "type": "histogram"
                      }
                    ],
                    "histogram2d": [
                      {
                        "colorbar": {
                          "outlinewidth": 0,
                          "ticks": ""
                        },
                        "colorscale": [
                          [
                            0,
                            "#0d0887"
                          ],
                          [
                            0.1111111111111111,
                            "#46039f"
                          ],
                          [
                            0.2222222222222222,
                            "#7201a8"
                          ],
                          [
                            0.3333333333333333,
                            "#9c179e"
                          ],
                          [
                            0.4444444444444444,
                            "#bd3786"
                          ],
                          [
                            0.5555555555555556,
                            "#d8576b"
                          ],
                          [
                            0.6666666666666666,
                            "#ed7953"
                          ],
                          [
                            0.7777777777777778,
                            "#fb9f3a"
                          ],
                          [
                            0.8888888888888888,
                            "#fdca26"
                          ],
                          [
                            1,
                            "#f0f921"
                          ]
                        ],
                        "type": "histogram2d"
                      }
                    ],
                    "histogram2dcontour": [
                      {
                        "colorbar": {
                          "outlinewidth": 0,
                          "ticks": ""
                        },
                        "colorscale": [
                          [
                            0,
                            "#0d0887"
                          ],
                          [
                            0.1111111111111111,
                            "#46039f"
                          ],
                          [
                            0.2222222222222222,
                            "#7201a8"
                          ],
                          [
                            0.3333333333333333,
                            "#9c179e"
                          ],
                          [
                            0.4444444444444444,
                            "#bd3786"
                          ],
                          [
                            0.5555555555555556,
                            "#d8576b"
                          ],
                          [
                            0.6666666666666666,
                            "#ed7953"
                          ],
                          [
                            0.7777777777777778,
                            "#fb9f3a"
                          ],
                          [
                            0.8888888888888888,
                            "#fdca26"
                          ],
                          [
                            1,
                            "#f0f921"
                          ]
                        ],
                        "type": "histogram2dcontour"
                      }
                    ],
                    "mesh3d": [
                      {
                        "colorbar": {
                          "outlinewidth": 0,
                          "ticks": ""
                        },
                        "type": "mesh3d"
                      }
                    ],
                    "parcoords": [
                      {
                        "line": {
                          "colorbar": {
                            "outlinewidth": 0,
                            "ticks": ""
                          }
                        },
                        "type": "parcoords"
                      }
                    ],
                    "pie": [
                      {
                        "automargin": true,
                        "type": "pie"
                      }
                    ],
                    "scatter": [
                      {
                        "fillpattern": {
                          "fillmode": "overlay",
                          "size": 10,
                          "solidity": 0.2
                        },
                        "type": "scatter"
                      }
                    ],
                    "scatter3d": [
                      {
                        "line": {
                          "colorbar": {
                            "outlinewidth": 0,
                            "ticks": ""
                          }
                        },
                        "marker": {
                          "colorbar": {
                            "outlinewidth": 0,
                            "ticks": ""
                          }
                        },
                        "type": "scatter3d"
                      }
                    ],
                    "scattercarpet": [
                      {
                        "marker": {
                          "colorbar": {
                            "outlinewidth": 0,
                            "ticks": ""
                          }
                        },
                        "type": "scattercarpet"
                      }
                    ],
                    "scattergeo": [
                      {
                        "marker": {
                          "colorbar": {
                            "outlinewidth": 0,
                            "ticks": ""
                          }
                        },
                        "type": "scattergeo"
                      }
                    ],
                    "scattergl": [
                      {
                        "marker": {
                          "colorbar": {
                            "outlinewidth": 0,
                            "ticks": ""
                          }
                        },
                        "type": "scattergl"
                      }
                    ],
                    "scattermapbox": [
                      {
                        "marker": {
                          "colorbar": {
                            "outlinewidth": 0,
                            "ticks": ""
                          }
                        },
                        "type": "scattermapbox"
                      }
                    ],
                    "scatterpolar": [
                      {
                        "marker": {
                          "colorbar": {
                            "outlinewidth": 0,
                            "ticks": ""
                          }
                        },
                        "type": "scatterpolar"
                      }
                    ],
                    "scatterpolargl": [
                      {
                        "marker": {
                          "colorbar": {
                            "outlinewidth": 0,
                            "ticks": ""
                          }
                        },
                        "type": "scatterpolargl"
                      }
                    ],
                    "scatterternary": [
                      {
                        "marker": {
                          "colorbar": {
                            "outlinewidth": 0,
                            "ticks": ""
                          }
                        },
                        "type": "scatterternary"
                      }
                    ],
                    "surface": [
                      {
                        "colorbar": {
                          "outlinewidth": 0,
                          "ticks": ""
                        },
                        "colorscale": [
                          [
                            0,
                            "#0d0887"
                          ],
                          [
                            0.1111111111111111,
                            "#46039f"
                          ],
                          [
                            0.2222222222222222,
                            "#7201a8"
                          ],
                          [
                            0.3333333333333333,
                            "#9c179e"
                          ],
                          [
                            0.4444444444444444,
                            "#bd3786"
                          ],
                          [
                            0.5555555555555556,
                            "#d8576b"
                          ],
                          [
                            0.6666666666666666,
                            "#ed7953"
                          ],
                          [
                            0.7777777777777778,
                            "#fb9f3a"
                          ],
                          [
                            0.8888888888888888,
                            "#fdca26"
                          ],
                          [
                            1,
                            "#f0f921"
                          ]
                        ],
                        "type": "surface"
                      }
                    ],
                    "table": [
                      {
                        "cells": {
                          "fill": {
                            "color": "#EBF0F8"
                          },
                          "line": {
                            "color": "white"
                          }
                        },
                        "header": {
                          "fill": {
                            "color": "#C8D4E3"
                          },
                          "line": {
                            "color": "white"
                          }
                        },
                        "type": "table"
                      }
                    ]
                  },
                  "layout": {
                    "annotationdefaults": {
                      "arrowcolor": "#2a3f5f",
                      "arrowhead": 0,
                      "arrowwidth": 1
                    },
                    "autotypenumbers": "strict",
                    "coloraxis": {
                      "colorbar": {
                        "outlinewidth": 0,
                        "ticks": ""
                      }
                    },
                    "colorscale": {
                      "diverging": [
                        [
                          0,
                          "#8e0152"
                        ],
                        [
                          0.1,
                          "#c51b7d"
                        ],
                        [
                          0.2,
                          "#de77ae"
                        ],
                        [
                          0.3,
                          "#f1b6da"
                        ],
                        [
                          0.4,
                          "#fde0ef"
                        ],
                        [
                          0.5,
                          "#f7f7f7"
                        ],
                        [
                          0.6,
                          "#e6f5d0"
                        ],
                        [
                          0.7,
                          "#b8e186"
                        ],
                        [
                          0.8,
                          "#7fbc41"
                        ],
                        [
                          0.9,
                          "#4d9221"
                        ],
                        [
                          1,
                          "#276419"
                        ]
                      ],
                      "sequential": [
                        [
                          0,
                          "#0d0887"
                        ],
                        [
                          0.1111111111111111,
                          "#46039f"
                        ],
                        [
                          0.2222222222222222,
                          "#7201a8"
                        ],
                        [
                          0.3333333333333333,
                          "#9c179e"
                        ],
                        [
                          0.4444444444444444,
                          "#bd3786"
                        ],
                        [
                          0.5555555555555556,
                          "#d8576b"
                        ],
                        [
                          0.6666666666666666,
                          "#ed7953"
                        ],
                        [
                          0.7777777777777778,
                          "#fb9f3a"
                        ],
                        [
                          0.8888888888888888,
                          "#fdca26"
                        ],
                        [
                          1,
                          "#f0f921"
                        ]
                      ],
                      "sequentialminus": [
                        [
                          0,
                          "#0d0887"
                        ],
                        [
                          0.1111111111111111,
                          "#46039f"
                        ],
                        [
                          0.2222222222222222,
                          "#7201a8"
                        ],
                        [
                          0.3333333333333333,
                          "#9c179e"
                        ],
                        [
                          0.4444444444444444,
                          "#bd3786"
                        ],
                        [
                          0.5555555555555556,
                          "#d8576b"
                        ],
                        [
                          0.6666666666666666,
                          "#ed7953"
                        ],
                        [
                          0.7777777777777778,
                          "#fb9f3a"
                        ],
                        [
                          0.8888888888888888,
                          "#fdca26"
                        ],
                        [
                          1,
                          "#f0f921"
                        ]
                      ]
                    },
                    "colorway": [
                      "#636efa",
                      "#EF553B",
                      "#00cc96",
                      "#ab63fa",
                      "#FFA15A",
                      "#19d3f3",
                      "#FF6692",
                      "#B6E880",
                      "#FF97FF",
                      "#FECB52"
                    ],
                    "font": {
                      "color": "#2a3f5f"
                    },
                    "geo": {
                      "bgcolor": "white",
                      "lakecolor": "white",
                      "landcolor": "#E5ECF6",
                      "showlakes": true,
                      "showland": true,
                      "subunitcolor": "white"
                    },
                    "hoverlabel": {
                      "align": "left"
                    },
                    "hovermode": "closest",
                    "mapbox": {
                      "style": "light"
                    },
                    "paper_bgcolor": "white",
                    "plot_bgcolor": "#E5ECF6",
                    "polar": {
                      "angularaxis": {
                        "gridcolor": "white",
                        "linecolor": "white",
                        "ticks": ""
                      },
                      "bgcolor": "#E5ECF6",
                      "radialaxis": {
                        "gridcolor": "white",
                        "linecolor": "white",
                        "ticks": ""
                      }
                    },
                    "scene": {
                      "xaxis": {
                        "backgroundcolor": "#E5ECF6",
                        "gridcolor": "white",
                        "gridwidth": 2,
                        "linecolor": "white",
                        "showbackground": true,
                        "ticks": "",
                        "zerolinecolor": "white"
                      },
                      "yaxis": {
                        "backgroundcolor": "#E5ECF6",
                        "gridcolor": "white",
                        "gridwidth": 2,
                        "linecolor": "white",
                        "showbackground": true,
                        "ticks": "",
                        "zerolinecolor": "white"
                      },
                      "zaxis": {
                        "backgroundcolor": "#E5ECF6",
                        "gridcolor": "white",
                        "gridwidth": 2,
                        "linecolor": "white",
                        "showbackground": true,
                        "ticks": "",
                        "zerolinecolor": "white"
                      }
                    },
                    "shapedefaults": {
                      "line": {
                        "color": "#2a3f5f"
                      }
                    },
                    "ternary": {
                      "aaxis": {
                        "gridcolor": "white",
                        "linecolor": "white",
                        "ticks": ""
                      },
                      "baxis": {
                        "gridcolor": "white",
                        "linecolor": "white",
                        "ticks": ""
                      },
                      "bgcolor": "#E5ECF6",
                      "caxis": {
                        "gridcolor": "white",
                        "linecolor": "white",
                        "ticks": ""
                      }
                    },
                    "title": {
                      "x": 0.05
                    },
                    "xaxis": {
                      "automargin": true,
                      "gridcolor": "white",
                      "linecolor": "white",
                      "ticks": "",
                      "title": {
                        "standoff": 15
                      },
                      "zerolinecolor": "white",
                      "zerolinewidth": 2
                    },
                    "yaxis": {
                      "automargin": true,
                      "gridcolor": "white",
                      "linecolor": "white",
                      "ticks": "",
                      "title": {
                        "standoff": 15
                      },
                      "zerolinecolor": "white",
                      "zerolinewidth": 2
                    }
                  }
                },
                "title": {
                  "text": "<b>Incidência por Gênero<b>"
                },
                "width": 500,
                "xaxis": {
                  "anchor": "y",
                  "domain": [
                    0,
                    1
                  ],
                  "title": {
                    "text": "Genero"
                  }
                },
                "yaxis": {
                  "anchor": "x",
                  "domain": [
                    0,
                    1
                  ],
                  "title": {
                    "text": "Casos"
                  }
                }
              }
            }
          },
          "metadata": {},
          "output_type": "display_data"
        }
      ],
      "source": [
        "graph_gen_confirm = px.bar(\n",
        "    gen_graph_data, y='Casos', x='Genero', text_auto='.2s',\n",
        "    color_discrete_sequence=px.colors.qualitative.Pastel1\n",
        ")\n",
        "graph_gen_confirm.update_traces(textfont_size=15)\n",
        "graph_gen_confirm.update_layout(\n",
        "    width=500,\n",
        "    height=400,\n",
        "    title=dict(text='<b>Incidência por Gênero<b>')\n",
        ")\n",
        "total = np.sum(gen_graph_data['Casos'])\n",
        "graph_gen_confirm.add_annotation(\n",
        "    x=1,\n",
        "    y=3.3e6,\n",
        "    text=f'<b>Total: {(total/1000000):.1f}M<b>',\n",
        "    font=dict(color='black', size=12),\n",
        "    showarrow=False\n",
        ")\n",
        "\n",
        "graph_gen_confirm"
      ]
    },
    {
      "cell_type": "code",
      "execution_count": 30,
      "metadata": {
        "id": "yxHRJC53zjtN"
      },
      "outputs": [],
      "source": [
        "#Os Dados mostram que há maior incidência do vírus em Mulheres."
      ]
    },
    {
      "cell_type": "markdown",
      "metadata": {
        "id": "Ovw3L8jczjtN"
      },
      "source": [
        "### 2- Faça um gráfico da mortalidade por faixas de idade"
      ]
    },
    {
      "cell_type": "code",
      "execution_count": 31,
      "metadata": {
        "id": "W1x05F0fzjtN"
      },
      "outputs": [],
      "source": [
        "age_graph_data = data[['Idade', 'Obito']].value_counts().sort_index().reset_index()\n",
        "age_graph_data.columns =['Idade', 'Obito', 'Total']\n",
        "age_graph_data = age_graph_data[age_graph_data['Obito']==1]\n"
      ]
    },
    {
      "cell_type": "code",
      "execution_count": 32,
      "metadata": {
        "colab": {
          "base_uri": "https://localhost:8080/",
          "height": 424
        },
        "id": "w1Zz6N8RzjtO",
        "outputId": "de56dac2-d439-408d-9d19-0af41d7a7557"
      },
      "outputs": [
        {
          "data": {
            "text/html": [
              "<div>\n",
              "<style scoped>\n",
              "    .dataframe tbody tr th:only-of-type {\n",
              "        vertical-align: middle;\n",
              "    }\n",
              "\n",
              "    .dataframe tbody tr th {\n",
              "        vertical-align: top;\n",
              "    }\n",
              "\n",
              "    .dataframe thead th {\n",
              "        text-align: right;\n",
              "    }\n",
              "</style>\n",
              "<table border=\"1\" class=\"dataframe\">\n",
              "  <thead>\n",
              "    <tr style=\"text-align: right;\">\n",
              "      <th></th>\n",
              "      <th>Idade</th>\n",
              "      <th>Obito</th>\n",
              "      <th>Total</th>\n",
              "    </tr>\n",
              "  </thead>\n",
              "  <tbody>\n",
              "    <tr>\n",
              "      <th>1</th>\n",
              "      <td>0</td>\n",
              "      <td>1</td>\n",
              "      <td>162</td>\n",
              "    </tr>\n",
              "    <tr>\n",
              "      <th>3</th>\n",
              "      <td>1</td>\n",
              "      <td>1</td>\n",
              "      <td>36</td>\n",
              "    </tr>\n",
              "    <tr>\n",
              "      <th>5</th>\n",
              "      <td>2</td>\n",
              "      <td>1</td>\n",
              "      <td>28</td>\n",
              "    </tr>\n",
              "    <tr>\n",
              "      <th>7</th>\n",
              "      <td>3</td>\n",
              "      <td>1</td>\n",
              "      <td>18</td>\n",
              "    </tr>\n",
              "    <tr>\n",
              "      <th>9</th>\n",
              "      <td>4</td>\n",
              "      <td>1</td>\n",
              "      <td>12</td>\n",
              "    </tr>\n",
              "    <tr>\n",
              "      <th>...</th>\n",
              "      <td>...</td>\n",
              "      <td>...</td>\n",
              "      <td>...</td>\n",
              "    </tr>\n",
              "    <tr>\n",
              "      <th>211</th>\n",
              "      <td>105</td>\n",
              "      <td>1</td>\n",
              "      <td>20</td>\n",
              "    </tr>\n",
              "    <tr>\n",
              "      <th>213</th>\n",
              "      <td>106</td>\n",
              "      <td>1</td>\n",
              "      <td>8</td>\n",
              "    </tr>\n",
              "    <tr>\n",
              "      <th>215</th>\n",
              "      <td>107</td>\n",
              "      <td>1</td>\n",
              "      <td>5</td>\n",
              "    </tr>\n",
              "    <tr>\n",
              "      <th>217</th>\n",
              "      <td>108</td>\n",
              "      <td>1</td>\n",
              "      <td>6</td>\n",
              "    </tr>\n",
              "    <tr>\n",
              "      <th>219</th>\n",
              "      <td>109</td>\n",
              "      <td>1</td>\n",
              "      <td>4</td>\n",
              "    </tr>\n",
              "  </tbody>\n",
              "</table>\n",
              "<p>110 rows × 3 columns</p>\n",
              "</div>"
            ],
            "text/plain": [
              "     Idade  Obito  Total\n",
              "1        0      1    162\n",
              "3        1      1     36\n",
              "5        2      1     28\n",
              "7        3      1     18\n",
              "9        4      1     12\n",
              "..     ...    ...    ...\n",
              "211    105      1     20\n",
              "213    106      1      8\n",
              "215    107      1      5\n",
              "217    108      1      6\n",
              "219    109      1      4\n",
              "\n",
              "[110 rows x 3 columns]"
            ]
          },
          "execution_count": 32,
          "metadata": {},
          "output_type": "execute_result"
        }
      ],
      "source": [
        "age_graph_data"
      ]
    },
    {
      "cell_type": "code",
      "execution_count": 33,
      "metadata": {
        "colab": {
          "base_uri": "https://localhost:8080/",
          "height": 417
        },
        "id": "BZxxi10pzjtV",
        "outputId": "2399d0c4-0cc8-4d1e-be02-e80d2618def1"
      },
      "outputs": [
        {
          "data": {
            "application/vnd.plotly.v1+json": {
              "config": {
                "plotlyServerURL": "https://plot.ly"
              },
              "data": [
                {
                  "alignmentgroup": "True",
                  "hovertemplate": "Idade=%{x}<br>Total=%{y}<extra></extra>",
                  "legendgroup": "",
                  "marker": {
                    "color": "rgb(102, 197, 204)",
                    "pattern": {
                      "shape": ""
                    }
                  },
                  "name": "",
                  "offsetgroup": "",
                  "orientation": "v",
                  "showlegend": false,
                  "textfont": {
                    "size": 15
                  },
                  "textposition": "auto",
                  "type": "bar",
                  "x": [
                    0,
                    1,
                    2,
                    3,
                    4,
                    5,
                    6,
                    7,
                    8,
                    9,
                    10,
                    11,
                    12,
                    13,
                    14,
                    15,
                    16,
                    17,
                    18,
                    19,
                    20,
                    21,
                    22,
                    23,
                    24,
                    25,
                    26,
                    27,
                    28,
                    29,
                    30,
                    31,
                    32,
                    33,
                    34,
                    35,
                    36,
                    37,
                    38,
                    39,
                    40,
                    41,
                    42,
                    43,
                    44,
                    45,
                    46,
                    47,
                    48,
                    49,
                    50,
                    51,
                    52,
                    53,
                    54,
                    55,
                    56,
                    57,
                    58,
                    59,
                    60,
                    61,
                    62,
                    63,
                    64,
                    65,
                    66,
                    67,
                    68,
                    69,
                    70,
                    71,
                    72,
                    73,
                    74,
                    75,
                    76,
                    77,
                    78,
                    79,
                    80,
                    81,
                    82,
                    83,
                    84,
                    85,
                    86,
                    87,
                    88,
                    89,
                    90,
                    91,
                    92,
                    93,
                    94,
                    95,
                    96,
                    97,
                    98,
                    99,
                    100,
                    101,
                    102,
                    103,
                    104,
                    105,
                    106,
                    107,
                    108,
                    109
                  ],
                  "xaxis": "x",
                  "y": [
                    162,
                    36,
                    28,
                    18,
                    12,
                    18,
                    8,
                    9,
                    15,
                    18,
                    10,
                    13,
                    13,
                    18,
                    21,
                    36,
                    44,
                    41,
                    38,
                    56,
                    86,
                    103,
                    128,
                    162,
                    174,
                    245,
                    248,
                    273,
                    342,
                    379,
                    443,
                    529,
                    535,
                    624,
                    706,
                    776,
                    829,
                    957,
                    1129,
                    1197,
                    1163,
                    1307,
                    1437,
                    1463,
                    1548,
                    1756,
                    1756,
                    1821,
                    1954,
                    1984,
                    2095,
                    2283,
                    2434,
                    2603,
                    2653,
                    3102,
                    3131,
                    3435,
                    3617,
                    3675,
                    3598,
                    3683,
                    4011,
                    4127,
                    4340,
                    4303,
                    4590,
                    4480,
                    4519,
                    4286,
                    4302,
                    4479,
                    4395,
                    4227,
                    4358,
                    4105,
                    4036,
                    4033,
                    3842,
                    3723,
                    3617,
                    3443,
                    3436,
                    3351,
                    3432,
                    3152,
                    2895,
                    2646,
                    2527,
                    2296,
                    2139,
                    1794,
                    1653,
                    1276,
                    1108,
                    895,
                    649,
                    501,
                    330,
                    234,
                    160,
                    100,
                    83,
                    50,
                    40,
                    20,
                    8,
                    5,
                    6,
                    4
                  ],
                  "yaxis": "y"
                }
              ],
              "layout": {
                "annotations": [
                  {
                    "font": {
                      "color": "black",
                      "size": 13
                    },
                    "showarrow": false,
                    "text": "<b>Total: 181Mil<b>",
                    "x": 10,
                    "y": 4300
                  }
                ],
                "barmode": "relative",
                "height": 400,
                "legend": {
                  "tracegroupgap": 0
                },
                "margin": {
                  "t": 60
                },
                "template": {
                  "data": {
                    "bar": [
                      {
                        "error_x": {
                          "color": "#2a3f5f"
                        },
                        "error_y": {
                          "color": "#2a3f5f"
                        },
                        "marker": {
                          "line": {
                            "color": "#E5ECF6",
                            "width": 0.5
                          },
                          "pattern": {
                            "fillmode": "overlay",
                            "size": 10,
                            "solidity": 0.2
                          }
                        },
                        "type": "bar"
                      }
                    ],
                    "barpolar": [
                      {
                        "marker": {
                          "line": {
                            "color": "#E5ECF6",
                            "width": 0.5
                          },
                          "pattern": {
                            "fillmode": "overlay",
                            "size": 10,
                            "solidity": 0.2
                          }
                        },
                        "type": "barpolar"
                      }
                    ],
                    "carpet": [
                      {
                        "aaxis": {
                          "endlinecolor": "#2a3f5f",
                          "gridcolor": "white",
                          "linecolor": "white",
                          "minorgridcolor": "white",
                          "startlinecolor": "#2a3f5f"
                        },
                        "baxis": {
                          "endlinecolor": "#2a3f5f",
                          "gridcolor": "white",
                          "linecolor": "white",
                          "minorgridcolor": "white",
                          "startlinecolor": "#2a3f5f"
                        },
                        "type": "carpet"
                      }
                    ],
                    "choropleth": [
                      {
                        "colorbar": {
                          "outlinewidth": 0,
                          "ticks": ""
                        },
                        "type": "choropleth"
                      }
                    ],
                    "contour": [
                      {
                        "colorbar": {
                          "outlinewidth": 0,
                          "ticks": ""
                        },
                        "colorscale": [
                          [
                            0,
                            "#0d0887"
                          ],
                          [
                            0.1111111111111111,
                            "#46039f"
                          ],
                          [
                            0.2222222222222222,
                            "#7201a8"
                          ],
                          [
                            0.3333333333333333,
                            "#9c179e"
                          ],
                          [
                            0.4444444444444444,
                            "#bd3786"
                          ],
                          [
                            0.5555555555555556,
                            "#d8576b"
                          ],
                          [
                            0.6666666666666666,
                            "#ed7953"
                          ],
                          [
                            0.7777777777777778,
                            "#fb9f3a"
                          ],
                          [
                            0.8888888888888888,
                            "#fdca26"
                          ],
                          [
                            1,
                            "#f0f921"
                          ]
                        ],
                        "type": "contour"
                      }
                    ],
                    "contourcarpet": [
                      {
                        "colorbar": {
                          "outlinewidth": 0,
                          "ticks": ""
                        },
                        "type": "contourcarpet"
                      }
                    ],
                    "heatmap": [
                      {
                        "colorbar": {
                          "outlinewidth": 0,
                          "ticks": ""
                        },
                        "colorscale": [
                          [
                            0,
                            "#0d0887"
                          ],
                          [
                            0.1111111111111111,
                            "#46039f"
                          ],
                          [
                            0.2222222222222222,
                            "#7201a8"
                          ],
                          [
                            0.3333333333333333,
                            "#9c179e"
                          ],
                          [
                            0.4444444444444444,
                            "#bd3786"
                          ],
                          [
                            0.5555555555555556,
                            "#d8576b"
                          ],
                          [
                            0.6666666666666666,
                            "#ed7953"
                          ],
                          [
                            0.7777777777777778,
                            "#fb9f3a"
                          ],
                          [
                            0.8888888888888888,
                            "#fdca26"
                          ],
                          [
                            1,
                            "#f0f921"
                          ]
                        ],
                        "type": "heatmap"
                      }
                    ],
                    "heatmapgl": [
                      {
                        "colorbar": {
                          "outlinewidth": 0,
                          "ticks": ""
                        },
                        "colorscale": [
                          [
                            0,
                            "#0d0887"
                          ],
                          [
                            0.1111111111111111,
                            "#46039f"
                          ],
                          [
                            0.2222222222222222,
                            "#7201a8"
                          ],
                          [
                            0.3333333333333333,
                            "#9c179e"
                          ],
                          [
                            0.4444444444444444,
                            "#bd3786"
                          ],
                          [
                            0.5555555555555556,
                            "#d8576b"
                          ],
                          [
                            0.6666666666666666,
                            "#ed7953"
                          ],
                          [
                            0.7777777777777778,
                            "#fb9f3a"
                          ],
                          [
                            0.8888888888888888,
                            "#fdca26"
                          ],
                          [
                            1,
                            "#f0f921"
                          ]
                        ],
                        "type": "heatmapgl"
                      }
                    ],
                    "histogram": [
                      {
                        "marker": {
                          "pattern": {
                            "fillmode": "overlay",
                            "size": 10,
                            "solidity": 0.2
                          }
                        },
                        "type": "histogram"
                      }
                    ],
                    "histogram2d": [
                      {
                        "colorbar": {
                          "outlinewidth": 0,
                          "ticks": ""
                        },
                        "colorscale": [
                          [
                            0,
                            "#0d0887"
                          ],
                          [
                            0.1111111111111111,
                            "#46039f"
                          ],
                          [
                            0.2222222222222222,
                            "#7201a8"
                          ],
                          [
                            0.3333333333333333,
                            "#9c179e"
                          ],
                          [
                            0.4444444444444444,
                            "#bd3786"
                          ],
                          [
                            0.5555555555555556,
                            "#d8576b"
                          ],
                          [
                            0.6666666666666666,
                            "#ed7953"
                          ],
                          [
                            0.7777777777777778,
                            "#fb9f3a"
                          ],
                          [
                            0.8888888888888888,
                            "#fdca26"
                          ],
                          [
                            1,
                            "#f0f921"
                          ]
                        ],
                        "type": "histogram2d"
                      }
                    ],
                    "histogram2dcontour": [
                      {
                        "colorbar": {
                          "outlinewidth": 0,
                          "ticks": ""
                        },
                        "colorscale": [
                          [
                            0,
                            "#0d0887"
                          ],
                          [
                            0.1111111111111111,
                            "#46039f"
                          ],
                          [
                            0.2222222222222222,
                            "#7201a8"
                          ],
                          [
                            0.3333333333333333,
                            "#9c179e"
                          ],
                          [
                            0.4444444444444444,
                            "#bd3786"
                          ],
                          [
                            0.5555555555555556,
                            "#d8576b"
                          ],
                          [
                            0.6666666666666666,
                            "#ed7953"
                          ],
                          [
                            0.7777777777777778,
                            "#fb9f3a"
                          ],
                          [
                            0.8888888888888888,
                            "#fdca26"
                          ],
                          [
                            1,
                            "#f0f921"
                          ]
                        ],
                        "type": "histogram2dcontour"
                      }
                    ],
                    "mesh3d": [
                      {
                        "colorbar": {
                          "outlinewidth": 0,
                          "ticks": ""
                        },
                        "type": "mesh3d"
                      }
                    ],
                    "parcoords": [
                      {
                        "line": {
                          "colorbar": {
                            "outlinewidth": 0,
                            "ticks": ""
                          }
                        },
                        "type": "parcoords"
                      }
                    ],
                    "pie": [
                      {
                        "automargin": true,
                        "type": "pie"
                      }
                    ],
                    "scatter": [
                      {
                        "fillpattern": {
                          "fillmode": "overlay",
                          "size": 10,
                          "solidity": 0.2
                        },
                        "type": "scatter"
                      }
                    ],
                    "scatter3d": [
                      {
                        "line": {
                          "colorbar": {
                            "outlinewidth": 0,
                            "ticks": ""
                          }
                        },
                        "marker": {
                          "colorbar": {
                            "outlinewidth": 0,
                            "ticks": ""
                          }
                        },
                        "type": "scatter3d"
                      }
                    ],
                    "scattercarpet": [
                      {
                        "marker": {
                          "colorbar": {
                            "outlinewidth": 0,
                            "ticks": ""
                          }
                        },
                        "type": "scattercarpet"
                      }
                    ],
                    "scattergeo": [
                      {
                        "marker": {
                          "colorbar": {
                            "outlinewidth": 0,
                            "ticks": ""
                          }
                        },
                        "type": "scattergeo"
                      }
                    ],
                    "scattergl": [
                      {
                        "marker": {
                          "colorbar": {
                            "outlinewidth": 0,
                            "ticks": ""
                          }
                        },
                        "type": "scattergl"
                      }
                    ],
                    "scattermapbox": [
                      {
                        "marker": {
                          "colorbar": {
                            "outlinewidth": 0,
                            "ticks": ""
                          }
                        },
                        "type": "scattermapbox"
                      }
                    ],
                    "scatterpolar": [
                      {
                        "marker": {
                          "colorbar": {
                            "outlinewidth": 0,
                            "ticks": ""
                          }
                        },
                        "type": "scatterpolar"
                      }
                    ],
                    "scatterpolargl": [
                      {
                        "marker": {
                          "colorbar": {
                            "outlinewidth": 0,
                            "ticks": ""
                          }
                        },
                        "type": "scatterpolargl"
                      }
                    ],
                    "scatterternary": [
                      {
                        "marker": {
                          "colorbar": {
                            "outlinewidth": 0,
                            "ticks": ""
                          }
                        },
                        "type": "scatterternary"
                      }
                    ],
                    "surface": [
                      {
                        "colorbar": {
                          "outlinewidth": 0,
                          "ticks": ""
                        },
                        "colorscale": [
                          [
                            0,
                            "#0d0887"
                          ],
                          [
                            0.1111111111111111,
                            "#46039f"
                          ],
                          [
                            0.2222222222222222,
                            "#7201a8"
                          ],
                          [
                            0.3333333333333333,
                            "#9c179e"
                          ],
                          [
                            0.4444444444444444,
                            "#bd3786"
                          ],
                          [
                            0.5555555555555556,
                            "#d8576b"
                          ],
                          [
                            0.6666666666666666,
                            "#ed7953"
                          ],
                          [
                            0.7777777777777778,
                            "#fb9f3a"
                          ],
                          [
                            0.8888888888888888,
                            "#fdca26"
                          ],
                          [
                            1,
                            "#f0f921"
                          ]
                        ],
                        "type": "surface"
                      }
                    ],
                    "table": [
                      {
                        "cells": {
                          "fill": {
                            "color": "#EBF0F8"
                          },
                          "line": {
                            "color": "white"
                          }
                        },
                        "header": {
                          "fill": {
                            "color": "#C8D4E3"
                          },
                          "line": {
                            "color": "white"
                          }
                        },
                        "type": "table"
                      }
                    ]
                  },
                  "layout": {
                    "annotationdefaults": {
                      "arrowcolor": "#2a3f5f",
                      "arrowhead": 0,
                      "arrowwidth": 1
                    },
                    "autotypenumbers": "strict",
                    "coloraxis": {
                      "colorbar": {
                        "outlinewidth": 0,
                        "ticks": ""
                      }
                    },
                    "colorscale": {
                      "diverging": [
                        [
                          0,
                          "#8e0152"
                        ],
                        [
                          0.1,
                          "#c51b7d"
                        ],
                        [
                          0.2,
                          "#de77ae"
                        ],
                        [
                          0.3,
                          "#f1b6da"
                        ],
                        [
                          0.4,
                          "#fde0ef"
                        ],
                        [
                          0.5,
                          "#f7f7f7"
                        ],
                        [
                          0.6,
                          "#e6f5d0"
                        ],
                        [
                          0.7,
                          "#b8e186"
                        ],
                        [
                          0.8,
                          "#7fbc41"
                        ],
                        [
                          0.9,
                          "#4d9221"
                        ],
                        [
                          1,
                          "#276419"
                        ]
                      ],
                      "sequential": [
                        [
                          0,
                          "#0d0887"
                        ],
                        [
                          0.1111111111111111,
                          "#46039f"
                        ],
                        [
                          0.2222222222222222,
                          "#7201a8"
                        ],
                        [
                          0.3333333333333333,
                          "#9c179e"
                        ],
                        [
                          0.4444444444444444,
                          "#bd3786"
                        ],
                        [
                          0.5555555555555556,
                          "#d8576b"
                        ],
                        [
                          0.6666666666666666,
                          "#ed7953"
                        ],
                        [
                          0.7777777777777778,
                          "#fb9f3a"
                        ],
                        [
                          0.8888888888888888,
                          "#fdca26"
                        ],
                        [
                          1,
                          "#f0f921"
                        ]
                      ],
                      "sequentialminus": [
                        [
                          0,
                          "#0d0887"
                        ],
                        [
                          0.1111111111111111,
                          "#46039f"
                        ],
                        [
                          0.2222222222222222,
                          "#7201a8"
                        ],
                        [
                          0.3333333333333333,
                          "#9c179e"
                        ],
                        [
                          0.4444444444444444,
                          "#bd3786"
                        ],
                        [
                          0.5555555555555556,
                          "#d8576b"
                        ],
                        [
                          0.6666666666666666,
                          "#ed7953"
                        ],
                        [
                          0.7777777777777778,
                          "#fb9f3a"
                        ],
                        [
                          0.8888888888888888,
                          "#fdca26"
                        ],
                        [
                          1,
                          "#f0f921"
                        ]
                      ]
                    },
                    "colorway": [
                      "#636efa",
                      "#EF553B",
                      "#00cc96",
                      "#ab63fa",
                      "#FFA15A",
                      "#19d3f3",
                      "#FF6692",
                      "#B6E880",
                      "#FF97FF",
                      "#FECB52"
                    ],
                    "font": {
                      "color": "#2a3f5f"
                    },
                    "geo": {
                      "bgcolor": "white",
                      "lakecolor": "white",
                      "landcolor": "#E5ECF6",
                      "showlakes": true,
                      "showland": true,
                      "subunitcolor": "white"
                    },
                    "hoverlabel": {
                      "align": "left"
                    },
                    "hovermode": "closest",
                    "mapbox": {
                      "style": "light"
                    },
                    "paper_bgcolor": "white",
                    "plot_bgcolor": "#E5ECF6",
                    "polar": {
                      "angularaxis": {
                        "gridcolor": "white",
                        "linecolor": "white",
                        "ticks": ""
                      },
                      "bgcolor": "#E5ECF6",
                      "radialaxis": {
                        "gridcolor": "white",
                        "linecolor": "white",
                        "ticks": ""
                      }
                    },
                    "scene": {
                      "xaxis": {
                        "backgroundcolor": "#E5ECF6",
                        "gridcolor": "white",
                        "gridwidth": 2,
                        "linecolor": "white",
                        "showbackground": true,
                        "ticks": "",
                        "zerolinecolor": "white"
                      },
                      "yaxis": {
                        "backgroundcolor": "#E5ECF6",
                        "gridcolor": "white",
                        "gridwidth": 2,
                        "linecolor": "white",
                        "showbackground": true,
                        "ticks": "",
                        "zerolinecolor": "white"
                      },
                      "zaxis": {
                        "backgroundcolor": "#E5ECF6",
                        "gridcolor": "white",
                        "gridwidth": 2,
                        "linecolor": "white",
                        "showbackground": true,
                        "ticks": "",
                        "zerolinecolor": "white"
                      }
                    },
                    "shapedefaults": {
                      "line": {
                        "color": "#2a3f5f"
                      }
                    },
                    "ternary": {
                      "aaxis": {
                        "gridcolor": "white",
                        "linecolor": "white",
                        "ticks": ""
                      },
                      "baxis": {
                        "gridcolor": "white",
                        "linecolor": "white",
                        "ticks": ""
                      },
                      "bgcolor": "#E5ECF6",
                      "caxis": {
                        "gridcolor": "white",
                        "linecolor": "white",
                        "ticks": ""
                      }
                    },
                    "title": {
                      "x": 0.05
                    },
                    "xaxis": {
                      "automargin": true,
                      "gridcolor": "white",
                      "linecolor": "white",
                      "ticks": "",
                      "title": {
                        "standoff": 15
                      },
                      "zerolinecolor": "white",
                      "zerolinewidth": 2
                    },
                    "yaxis": {
                      "automargin": true,
                      "gridcolor": "white",
                      "linecolor": "white",
                      "ticks": "",
                      "title": {
                        "standoff": 15
                      },
                      "zerolinecolor": "white",
                      "zerolinewidth": 2
                    }
                  }
                },
                "title": {
                  "text": "<b>Vítimas por Idade<b>"
                },
                "width": 1500,
                "xaxis": {
                  "anchor": "y",
                  "domain": [
                    0,
                    1
                  ],
                  "title": {
                    "text": "Idade"
                  }
                },
                "yaxis": {
                  "anchor": "x",
                  "domain": [
                    0,
                    1
                  ],
                  "title": {
                    "text": "Total"
                  }
                }
              }
            }
          },
          "metadata": {},
          "output_type": "display_data"
        }
      ],
      "source": [
        "graph_age_death = px.bar(\n",
        "    age_graph_data, y='Total', x='Idade',\n",
        "    color_discrete_sequence=px.colors.qualitative.Pastel\n",
        ")\n",
        "graph_age_death.update_traces(textfont_size=15)\n",
        "graph_age_death.update_layout(\n",
        "    width=1500,\n",
        "    height=400,\n",
        "    title=dict(text='<b>Vítimas por Idade<b>')\n",
        ")\n",
        "total = np.sum(age_graph_data['Total'])\n",
        "graph_age_death.add_annotation(\n",
        "    x=10,\n",
        "    y=4300,\n",
        "    text=f'<b>Total: {((total)/1000):.0f}Mil<b>',\n",
        "    font=dict(color='black', size=13),\n",
        "    showarrow=False\n",
        ")\n",
        "graph_age_death"
      ]
    },
    {
      "cell_type": "markdown",
      "metadata": {
        "id": "JuUh_qyMzjtW"
      },
      "source": [
        "### 3- Qual a doença pré-existente mais provável de se encontrar numa pessoa com covid?"
      ]
    },
    {
      "cell_type": "code",
      "execution_count": 34,
      "metadata": {
        "id": "6uLnNiX3zjtW"
      },
      "outputs": [],
      "source": [
        "data1 = data.copy()\n",
        "illness_graph_data = data1.drop(columns=['Data_Inicio_Sintomas', 'Diagnostico_Covid19', 'Genero', 'Idade', 'Municipio', 'Obito', 'Outros_Fatores_De_Risco'])"
      ]
    },
    {
      "cell_type": "code",
      "execution_count": 35,
      "metadata": {
        "id": "iKPCiHNUzjtW"
      },
      "outputs": [],
      "source": [
        "illness_graph_data_melt = pd.melt(illness_graph_data, var_name='Doenca', value_name='Status')"
      ]
    },
    {
      "cell_type": "code",
      "execution_count": 36,
      "metadata": {
        "colab": {
          "base_uri": "https://localhost:8080/",
          "height": 1000
        },
        "id": "4NiRC-2FzjtW",
        "outputId": "e4176ed1-089a-425c-a297-93d804adfaac"
      },
      "outputs": [
        {
          "data": {
            "text/html": [
              "<div>\n",
              "<style scoped>\n",
              "    .dataframe tbody tr th:only-of-type {\n",
              "        vertical-align: middle;\n",
              "    }\n",
              "\n",
              "    .dataframe tbody tr th {\n",
              "        vertical-align: top;\n",
              "    }\n",
              "\n",
              "    .dataframe thead th {\n",
              "        text-align: right;\n",
              "    }\n",
              "</style>\n",
              "<table border=\"1\" class=\"dataframe\">\n",
              "  <thead>\n",
              "    <tr style=\"text-align: right;\">\n",
              "      <th></th>\n",
              "      <th>Doenca</th>\n",
              "      <th>Status</th>\n",
              "      <th>count</th>\n",
              "    </tr>\n",
              "  </thead>\n",
              "  <tbody>\n",
              "    <tr>\n",
              "      <th>0</th>\n",
              "      <td>Asma</td>\n",
              "      <td>IGNORADO</td>\n",
              "      <td>6202196</td>\n",
              "    </tr>\n",
              "    <tr>\n",
              "      <th>1</th>\n",
              "      <td>Asma</td>\n",
              "      <td>NÃO</td>\n",
              "      <td>217044</td>\n",
              "    </tr>\n",
              "    <tr>\n",
              "      <th>2</th>\n",
              "      <td>Asma</td>\n",
              "      <td>SIM</td>\n",
              "      <td>16143</td>\n",
              "    </tr>\n",
              "    <tr>\n",
              "      <th>3</th>\n",
              "      <td>Cardiopatia</td>\n",
              "      <td>IGNORADO</td>\n",
              "      <td>5868457</td>\n",
              "    </tr>\n",
              "    <tr>\n",
              "      <th>4</th>\n",
              "      <td>Cardiopatia</td>\n",
              "      <td>NÃO</td>\n",
              "      <td>100920</td>\n",
              "    </tr>\n",
              "    <tr>\n",
              "      <th>5</th>\n",
              "      <td>Cardiopatia</td>\n",
              "      <td>SIM</td>\n",
              "      <td>466006</td>\n",
              "    </tr>\n",
              "    <tr>\n",
              "      <th>6</th>\n",
              "      <td>Diabetes</td>\n",
              "      <td>IGNORADO</td>\n",
              "      <td>5984449</td>\n",
              "    </tr>\n",
              "    <tr>\n",
              "      <th>7</th>\n",
              "      <td>Diabetes</td>\n",
              "      <td>NÃO</td>\n",
              "      <td>141694</td>\n",
              "    </tr>\n",
              "    <tr>\n",
              "      <th>8</th>\n",
              "      <td>Diabetes</td>\n",
              "      <td>SIM</td>\n",
              "      <td>309240</td>\n",
              "    </tr>\n",
              "    <tr>\n",
              "      <th>9</th>\n",
              "      <td>Doenca Renal</td>\n",
              "      <td>IGNORADO</td>\n",
              "      <td>6189665</td>\n",
              "    </tr>\n",
              "    <tr>\n",
              "      <th>10</th>\n",
              "      <td>Doenca Renal</td>\n",
              "      <td>NÃO</td>\n",
              "      <td>214015</td>\n",
              "    </tr>\n",
              "    <tr>\n",
              "      <th>11</th>\n",
              "      <td>Doenca Renal</td>\n",
              "      <td>SIM</td>\n",
              "      <td>31703</td>\n",
              "    </tr>\n",
              "    <tr>\n",
              "      <th>12</th>\n",
              "      <td>Doenca_Hematologica</td>\n",
              "      <td>IGNORADO</td>\n",
              "      <td>6205759</td>\n",
              "    </tr>\n",
              "    <tr>\n",
              "      <th>13</th>\n",
              "      <td>Doenca_Hematologica</td>\n",
              "      <td>NÃO</td>\n",
              "      <td>225093</td>\n",
              "    </tr>\n",
              "    <tr>\n",
              "      <th>14</th>\n",
              "      <td>Doenca_Hematologica</td>\n",
              "      <td>SIM</td>\n",
              "      <td>4531</td>\n",
              "    </tr>\n",
              "    <tr>\n",
              "      <th>15</th>\n",
              "      <td>Doenca_Hepatica</td>\n",
              "      <td>IGNORADO</td>\n",
              "      <td>6206553</td>\n",
              "    </tr>\n",
              "    <tr>\n",
              "      <th>16</th>\n",
              "      <td>Doenca_Hepatica</td>\n",
              "      <td>NÃO</td>\n",
              "      <td>224129</td>\n",
              "    </tr>\n",
              "    <tr>\n",
              "      <th>17</th>\n",
              "      <td>Doenca_Hepatica</td>\n",
              "      <td>SIM</td>\n",
              "      <td>4701</td>\n",
              "    </tr>\n",
              "    <tr>\n",
              "      <th>18</th>\n",
              "      <td>Doenca_Neurologica</td>\n",
              "      <td>IGNORADO</td>\n",
              "      <td>6199136</td>\n",
              "    </tr>\n",
              "    <tr>\n",
              "      <th>19</th>\n",
              "      <td>Doenca_Neurologica</td>\n",
              "      <td>NÃO</td>\n",
              "      <td>212467</td>\n",
              "    </tr>\n",
              "    <tr>\n",
              "      <th>20</th>\n",
              "      <td>Doenca_Neurologica</td>\n",
              "      <td>SIM</td>\n",
              "      <td>23780</td>\n",
              "    </tr>\n",
              "    <tr>\n",
              "      <th>21</th>\n",
              "      <td>Imunodepressao</td>\n",
              "      <td>IGNORADO</td>\n",
              "      <td>6179484</td>\n",
              "    </tr>\n",
              "    <tr>\n",
              "      <th>22</th>\n",
              "      <td>Imunodepressao</td>\n",
              "      <td>NÃO</td>\n",
              "      <td>217576</td>\n",
              "    </tr>\n",
              "    <tr>\n",
              "      <th>23</th>\n",
              "      <td>Imunodepressao</td>\n",
              "      <td>SIM</td>\n",
              "      <td>38323</td>\n",
              "    </tr>\n",
              "    <tr>\n",
              "      <th>24</th>\n",
              "      <td>Obesidade</td>\n",
              "      <td>IGNORADO</td>\n",
              "      <td>6195282</td>\n",
              "    </tr>\n",
              "    <tr>\n",
              "      <th>25</th>\n",
              "      <td>Obesidade</td>\n",
              "      <td>NÃO</td>\n",
              "      <td>191431</td>\n",
              "    </tr>\n",
              "    <tr>\n",
              "      <th>26</th>\n",
              "      <td>Obesidade</td>\n",
              "      <td>SIM</td>\n",
              "      <td>48670</td>\n",
              "    </tr>\n",
              "    <tr>\n",
              "      <th>27</th>\n",
              "      <td>Pneumopatia</td>\n",
              "      <td>IGNORADO</td>\n",
              "      <td>6199874</td>\n",
              "    </tr>\n",
              "    <tr>\n",
              "      <th>28</th>\n",
              "      <td>Pneumopatia</td>\n",
              "      <td>NÃO</td>\n",
              "      <td>215439</td>\n",
              "    </tr>\n",
              "    <tr>\n",
              "      <th>29</th>\n",
              "      <td>Pneumopatia</td>\n",
              "      <td>SIM</td>\n",
              "      <td>20070</td>\n",
              "    </tr>\n",
              "    <tr>\n",
              "      <th>30</th>\n",
              "      <td>Puérpera</td>\n",
              "      <td>IGNORADO</td>\n",
              "      <td>6207721</td>\n",
              "    </tr>\n",
              "    <tr>\n",
              "      <th>31</th>\n",
              "      <td>Puérpera</td>\n",
              "      <td>NÃO</td>\n",
              "      <td>225977</td>\n",
              "    </tr>\n",
              "    <tr>\n",
              "      <th>32</th>\n",
              "      <td>Puérpera</td>\n",
              "      <td>SIM</td>\n",
              "      <td>1685</td>\n",
              "    </tr>\n",
              "    <tr>\n",
              "      <th>33</th>\n",
              "      <td>Síndrome_De_Down</td>\n",
              "      <td>IGNORADO</td>\n",
              "      <td>6206204</td>\n",
              "    </tr>\n",
              "    <tr>\n",
              "      <th>34</th>\n",
              "      <td>Síndrome_De_Down</td>\n",
              "      <td>NÃO</td>\n",
              "      <td>227730</td>\n",
              "    </tr>\n",
              "    <tr>\n",
              "      <th>35</th>\n",
              "      <td>Síndrome_De_Down</td>\n",
              "      <td>SIM</td>\n",
              "      <td>1449</td>\n",
              "    </tr>\n",
              "  </tbody>\n",
              "</table>\n",
              "</div>"
            ],
            "text/plain": [
              "                 Doenca    Status    count\n",
              "0                  Asma  IGNORADO  6202196\n",
              "1                  Asma       NÃO   217044\n",
              "2                  Asma       SIM    16143\n",
              "3           Cardiopatia  IGNORADO  5868457\n",
              "4           Cardiopatia       NÃO   100920\n",
              "5           Cardiopatia       SIM   466006\n",
              "6              Diabetes  IGNORADO  5984449\n",
              "7              Diabetes       NÃO   141694\n",
              "8              Diabetes       SIM   309240\n",
              "9          Doenca Renal  IGNORADO  6189665\n",
              "10         Doenca Renal       NÃO   214015\n",
              "11         Doenca Renal       SIM    31703\n",
              "12  Doenca_Hematologica  IGNORADO  6205759\n",
              "13  Doenca_Hematologica       NÃO   225093\n",
              "14  Doenca_Hematologica       SIM     4531\n",
              "15      Doenca_Hepatica  IGNORADO  6206553\n",
              "16      Doenca_Hepatica       NÃO   224129\n",
              "17      Doenca_Hepatica       SIM     4701\n",
              "18   Doenca_Neurologica  IGNORADO  6199136\n",
              "19   Doenca_Neurologica       NÃO   212467\n",
              "20   Doenca_Neurologica       SIM    23780\n",
              "21       Imunodepressao  IGNORADO  6179484\n",
              "22       Imunodepressao       NÃO   217576\n",
              "23       Imunodepressao       SIM    38323\n",
              "24            Obesidade  IGNORADO  6195282\n",
              "25            Obesidade       NÃO   191431\n",
              "26            Obesidade       SIM    48670\n",
              "27          Pneumopatia  IGNORADO  6199874\n",
              "28          Pneumopatia       NÃO   215439\n",
              "29          Pneumopatia       SIM    20070\n",
              "30             Puérpera  IGNORADO  6207721\n",
              "31             Puérpera       NÃO   225977\n",
              "32             Puérpera       SIM     1685\n",
              "33     Síndrome_De_Down  IGNORADO  6206204\n",
              "34     Síndrome_De_Down       NÃO   227730\n",
              "35     Síndrome_De_Down       SIM     1449"
            ]
          },
          "execution_count": 36,
          "metadata": {},
          "output_type": "execute_result"
        }
      ],
      "source": [
        "illness_graph_data_melt = illness_graph_data_melt[['Doenca', 'Status']].value_counts().sort_index().reset_index()\n",
        "illness_graph_data_melt"
      ]
    },
    {
      "cell_type": "code",
      "execution_count": 37,
      "metadata": {
        "colab": {
          "base_uri": "https://localhost:8080/",
          "height": 426
        },
        "id": "nIIB-zpRzjtW",
        "outputId": "c3de86ea-8112-400c-e523-9ea3dc4c72b9"
      },
      "outputs": [
        {
          "data": {
            "text/html": [
              "<div>\n",
              "<style scoped>\n",
              "    .dataframe tbody tr th:only-of-type {\n",
              "        vertical-align: middle;\n",
              "    }\n",
              "\n",
              "    .dataframe tbody tr th {\n",
              "        vertical-align: top;\n",
              "    }\n",
              "\n",
              "    .dataframe thead th {\n",
              "        text-align: right;\n",
              "    }\n",
              "</style>\n",
              "<table border=\"1\" class=\"dataframe\">\n",
              "  <thead>\n",
              "    <tr style=\"text-align: right;\">\n",
              "      <th></th>\n",
              "      <th>Doenca</th>\n",
              "      <th>Status</th>\n",
              "      <th>Total</th>\n",
              "    </tr>\n",
              "  </thead>\n",
              "  <tbody>\n",
              "    <tr>\n",
              "      <th>0</th>\n",
              "      <td>Asma</td>\n",
              "      <td>SIM</td>\n",
              "      <td>16143</td>\n",
              "    </tr>\n",
              "    <tr>\n",
              "      <th>1</th>\n",
              "      <td>Cardiopatia</td>\n",
              "      <td>SIM</td>\n",
              "      <td>466006</td>\n",
              "    </tr>\n",
              "    <tr>\n",
              "      <th>2</th>\n",
              "      <td>Diabetes</td>\n",
              "      <td>SIM</td>\n",
              "      <td>309240</td>\n",
              "    </tr>\n",
              "    <tr>\n",
              "      <th>3</th>\n",
              "      <td>Doenca Renal</td>\n",
              "      <td>SIM</td>\n",
              "      <td>31703</td>\n",
              "    </tr>\n",
              "    <tr>\n",
              "      <th>4</th>\n",
              "      <td>Doenca_Hematologica</td>\n",
              "      <td>SIM</td>\n",
              "      <td>4531</td>\n",
              "    </tr>\n",
              "    <tr>\n",
              "      <th>5</th>\n",
              "      <td>Doenca_Hepatica</td>\n",
              "      <td>SIM</td>\n",
              "      <td>4701</td>\n",
              "    </tr>\n",
              "    <tr>\n",
              "      <th>6</th>\n",
              "      <td>Doenca_Neurologica</td>\n",
              "      <td>SIM</td>\n",
              "      <td>23780</td>\n",
              "    </tr>\n",
              "    <tr>\n",
              "      <th>7</th>\n",
              "      <td>Imunodepressao</td>\n",
              "      <td>SIM</td>\n",
              "      <td>38323</td>\n",
              "    </tr>\n",
              "    <tr>\n",
              "      <th>8</th>\n",
              "      <td>Obesidade</td>\n",
              "      <td>SIM</td>\n",
              "      <td>48670</td>\n",
              "    </tr>\n",
              "    <tr>\n",
              "      <th>9</th>\n",
              "      <td>Pneumopatia</td>\n",
              "      <td>SIM</td>\n",
              "      <td>20070</td>\n",
              "    </tr>\n",
              "    <tr>\n",
              "      <th>10</th>\n",
              "      <td>Puérpera</td>\n",
              "      <td>SIM</td>\n",
              "      <td>1685</td>\n",
              "    </tr>\n",
              "    <tr>\n",
              "      <th>11</th>\n",
              "      <td>Síndrome_De_Down</td>\n",
              "      <td>SIM</td>\n",
              "      <td>1449</td>\n",
              "    </tr>\n",
              "  </tbody>\n",
              "</table>\n",
              "</div>"
            ],
            "text/plain": [
              "                 Doenca Status   Total\n",
              "0                  Asma    SIM   16143\n",
              "1           Cardiopatia    SIM  466006\n",
              "2              Diabetes    SIM  309240\n",
              "3          Doenca Renal    SIM   31703\n",
              "4   Doenca_Hematologica    SIM    4531\n",
              "5       Doenca_Hepatica    SIM    4701\n",
              "6    Doenca_Neurologica    SIM   23780\n",
              "7        Imunodepressao    SIM   38323\n",
              "8             Obesidade    SIM   48670\n",
              "9           Pneumopatia    SIM   20070\n",
              "10             Puérpera    SIM    1685\n",
              "11     Síndrome_De_Down    SIM    1449"
            ]
          },
          "execution_count": 37,
          "metadata": {},
          "output_type": "execute_result"
        }
      ],
      "source": [
        "illness_graph_data_melt= illness_graph_data_melt[illness_graph_data_melt['Status']=='SIM'].reset_index().drop(columns='index')\n",
        "illness_graph_data_melt.columns=['Doenca', 'Status','Total']\n",
        "illness_graph_data_melt"
      ]
    },
    {
      "cell_type": "code",
      "execution_count": 38,
      "metadata": {
        "id": "BdfeyL_czjtW"
      },
      "outputs": [],
      "source": [
        "illness_graph_data_melt['Percent'] = (illness_graph_data_melt['Total']/ np.sum(illness_graph_data_melt['Total']))*100\n",
        "illness_graph_data_melt = illness_graph_data_melt.sort_values(by='Percent')"
      ]
    },
    {
      "cell_type": "code",
      "execution_count": 39,
      "metadata": {
        "colab": {
          "base_uri": "https://localhost:8080/",
          "height": 542
        },
        "id": "ifGIn0NvzjtX",
        "outputId": "c13987d9-8305-4820-fcf1-83074cb3d18e"
      },
      "outputs": [
        {
          "data": {
            "application/vnd.plotly.v1+json": {
              "config": {
                "plotlyServerURL": "https://plot.ly"
              },
              "data": [
                {
                  "marker": {
                    "color": "rgba(50, 171, 96, 0.6)",
                    "line": {
                      "color": "rgba(50, 171, 96, 1.0)",
                      "width": 1
                    }
                  },
                  "name": "(%)",
                  "orientation": "h",
                  "type": "bar",
                  "x": [
                    0.1499532754286708,
                    0.17437630717550742,
                    0.4689015120547324,
                    0.4864943739062673,
                    1.6705974639372203,
                    2.0769925727076757,
                    2.4609309107617605,
                    3.2808617604659416,
                    3.9659484984492415,
                    5.036732860671778,
                    32.00245058216849,
                    48.225759882272705
                  ],
                  "xaxis": "x",
                  "y": [
                    "Síndrome_De_Down",
                    "Puérpera",
                    "Doenca_Hematologica",
                    "Doenca_Hepatica",
                    "Asma",
                    "Pneumopatia",
                    "Doenca_Neurologica",
                    "Doenca Renal",
                    "Imunodepressao",
                    "Obesidade",
                    "Diabetes",
                    "Cardiopatia"
                  ],
                  "yaxis": "y"
                },
                {
                  "line": {
                    "color": "rgb(128,0,128)"
                  },
                  "mode": "lines+markers",
                  "name": "Total",
                  "type": "scatter",
                  "x": [
                    1449,
                    1685,
                    4531,
                    4701,
                    16143,
                    20070,
                    23780,
                    31703,
                    38323,
                    48670,
                    309240,
                    466006
                  ],
                  "xaxis": "x2",
                  "y": [
                    "Síndrome_De_Down",
                    "Puérpera",
                    "Doenca_Hematologica",
                    "Doenca_Hepatica",
                    "Asma",
                    "Pneumopatia",
                    "Doenca_Neurologica",
                    "Doenca Renal",
                    "Imunodepressao",
                    "Obesidade",
                    "Diabetes",
                    "Cardiopatia"
                  ],
                  "yaxis": "y2"
                }
              ],
              "layout": {
                "annotations": [
                  {
                    "font": {
                      "color": "rgb(128, 0, 128)",
                      "family": "Arial",
                      "size": 12
                    },
                    "showarrow": false,
                    "text": "1k",
                    "x": -18551,
                    "xref": "x2",
                    "y": "Síndrome_De_Down",
                    "yref": "y"
                  },
                  {
                    "font": {
                      "color": "rgb(50, 171, 96)",
                      "family": "Arial",
                      "size": 12
                    },
                    "showarrow": false,
                    "text": "0.15%",
                    "x": 3.15,
                    "xref": "x",
                    "y": "Síndrome_De_Down",
                    "yref": "y"
                  },
                  {
                    "font": {
                      "color": "rgb(128, 0, 128)",
                      "family": "Arial",
                      "size": 12
                    },
                    "showarrow": false,
                    "text": "2k",
                    "x": -18315,
                    "xref": "x2",
                    "y": "Puérpera",
                    "yref": "y"
                  },
                  {
                    "font": {
                      "color": "rgb(50, 171, 96)",
                      "family": "Arial",
                      "size": 12
                    },
                    "showarrow": false,
                    "text": "0.17%",
                    "x": 3.17,
                    "xref": "x",
                    "y": "Puérpera",
                    "yref": "y"
                  },
                  {
                    "font": {
                      "color": "rgb(128, 0, 128)",
                      "family": "Arial",
                      "size": 12
                    },
                    "showarrow": false,
                    "text": "5k",
                    "x": -15469,
                    "xref": "x2",
                    "y": "Doenca_Hematologica",
                    "yref": "y"
                  },
                  {
                    "font": {
                      "color": "rgb(50, 171, 96)",
                      "family": "Arial",
                      "size": 12
                    },
                    "showarrow": false,
                    "text": "0.47%",
                    "x": 3.4699999999999998,
                    "xref": "x",
                    "y": "Doenca_Hematologica",
                    "yref": "y"
                  },
                  {
                    "font": {
                      "color": "rgb(128, 0, 128)",
                      "family": "Arial",
                      "size": 12
                    },
                    "showarrow": false,
                    "text": "5k",
                    "x": -15299,
                    "xref": "x2",
                    "y": "Doenca_Hepatica",
                    "yref": "y"
                  },
                  {
                    "font": {
                      "color": "rgb(50, 171, 96)",
                      "family": "Arial",
                      "size": 12
                    },
                    "showarrow": false,
                    "text": "0.49%",
                    "x": 3.49,
                    "xref": "x",
                    "y": "Doenca_Hepatica",
                    "yref": "y"
                  },
                  {
                    "font": {
                      "color": "rgb(128, 0, 128)",
                      "family": "Arial",
                      "size": 12
                    },
                    "showarrow": false,
                    "text": "16k",
                    "x": -3857,
                    "xref": "x2",
                    "y": "Asma",
                    "yref": "y"
                  },
                  {
                    "font": {
                      "color": "rgb(50, 171, 96)",
                      "family": "Arial",
                      "size": 12
                    },
                    "showarrow": false,
                    "text": "1.67%",
                    "x": 4.67,
                    "xref": "x",
                    "y": "Asma",
                    "yref": "y"
                  },
                  {
                    "font": {
                      "color": "rgb(128, 0, 128)",
                      "family": "Arial",
                      "size": 12
                    },
                    "showarrow": false,
                    "text": "20k",
                    "x": 70,
                    "xref": "x2",
                    "y": "Pneumopatia",
                    "yref": "y"
                  },
                  {
                    "font": {
                      "color": "rgb(50, 171, 96)",
                      "family": "Arial",
                      "size": 12
                    },
                    "showarrow": false,
                    "text": "2.08%",
                    "x": 5.08,
                    "xref": "x",
                    "y": "Pneumopatia",
                    "yref": "y"
                  },
                  {
                    "font": {
                      "color": "rgb(128, 0, 128)",
                      "family": "Arial",
                      "size": 12
                    },
                    "showarrow": false,
                    "text": "24k",
                    "x": 3780,
                    "xref": "x2",
                    "y": "Doenca_Neurologica",
                    "yref": "y"
                  },
                  {
                    "font": {
                      "color": "rgb(50, 171, 96)",
                      "family": "Arial",
                      "size": 12
                    },
                    "showarrow": false,
                    "text": "2.46%",
                    "x": 5.46,
                    "xref": "x",
                    "y": "Doenca_Neurologica",
                    "yref": "y"
                  },
                  {
                    "font": {
                      "color": "rgb(128, 0, 128)",
                      "family": "Arial",
                      "size": 12
                    },
                    "showarrow": false,
                    "text": "32k",
                    "x": 11703,
                    "xref": "x2",
                    "y": "Doenca Renal",
                    "yref": "y"
                  },
                  {
                    "font": {
                      "color": "rgb(50, 171, 96)",
                      "family": "Arial",
                      "size": 12
                    },
                    "showarrow": false,
                    "text": "3.28%",
                    "x": 6.279999999999999,
                    "xref": "x",
                    "y": "Doenca Renal",
                    "yref": "y"
                  },
                  {
                    "font": {
                      "color": "rgb(128, 0, 128)",
                      "family": "Arial",
                      "size": 12
                    },
                    "showarrow": false,
                    "text": "38k",
                    "x": 18323,
                    "xref": "x2",
                    "y": "Imunodepressao",
                    "yref": "y"
                  },
                  {
                    "font": {
                      "color": "rgb(50, 171, 96)",
                      "family": "Arial",
                      "size": 12
                    },
                    "showarrow": false,
                    "text": "3.97%",
                    "x": 6.970000000000001,
                    "xref": "x",
                    "y": "Imunodepressao",
                    "yref": "y"
                  },
                  {
                    "font": {
                      "color": "rgb(128, 0, 128)",
                      "family": "Arial",
                      "size": 12
                    },
                    "showarrow": false,
                    "text": "49k",
                    "x": 28670,
                    "xref": "x2",
                    "y": "Obesidade",
                    "yref": "y"
                  },
                  {
                    "font": {
                      "color": "rgb(50, 171, 96)",
                      "family": "Arial",
                      "size": 12
                    },
                    "showarrow": false,
                    "text": "5.04%",
                    "x": 8.04,
                    "xref": "x",
                    "y": "Obesidade",
                    "yref": "y"
                  },
                  {
                    "font": {
                      "color": "rgb(128, 0, 128)",
                      "family": "Arial",
                      "size": 12
                    },
                    "showarrow": false,
                    "text": "309k",
                    "x": 289240,
                    "xref": "x2",
                    "y": "Diabetes",
                    "yref": "y"
                  },
                  {
                    "font": {
                      "color": "rgb(50, 171, 96)",
                      "family": "Arial",
                      "size": 12
                    },
                    "showarrow": false,
                    "text": "32.0%",
                    "x": 35,
                    "xref": "x",
                    "y": "Diabetes",
                    "yref": "y"
                  },
                  {
                    "font": {
                      "color": "rgb(128, 0, 128)",
                      "family": "Arial",
                      "size": 12
                    },
                    "showarrow": false,
                    "text": "466k",
                    "x": 446006,
                    "xref": "x2",
                    "y": "Cardiopatia",
                    "yref": "y"
                  },
                  {
                    "font": {
                      "color": "rgb(50, 171, 96)",
                      "family": "Arial",
                      "size": 12
                    },
                    "showarrow": false,
                    "text": "48.23%",
                    "x": 51.23,
                    "xref": "x",
                    "y": "Cardiopatia",
                    "yref": "y"
                  }
                ],
                "legend": {
                  "font": {
                    "size": 10
                  },
                  "x": 0.029,
                  "y": 1.038
                },
                "margin": {
                  "b": 70,
                  "l": 100,
                  "r": 20,
                  "t": 70
                },
                "paper_bgcolor": "rgb(248, 248, 255)",
                "plot_bgcolor": "rgb(248, 248, 255)",
                "template": {
                  "data": {
                    "bar": [
                      {
                        "error_x": {
                          "color": "#2a3f5f"
                        },
                        "error_y": {
                          "color": "#2a3f5f"
                        },
                        "marker": {
                          "line": {
                            "color": "#E5ECF6",
                            "width": 0.5
                          },
                          "pattern": {
                            "fillmode": "overlay",
                            "size": 10,
                            "solidity": 0.2
                          }
                        },
                        "type": "bar"
                      }
                    ],
                    "barpolar": [
                      {
                        "marker": {
                          "line": {
                            "color": "#E5ECF6",
                            "width": 0.5
                          },
                          "pattern": {
                            "fillmode": "overlay",
                            "size": 10,
                            "solidity": 0.2
                          }
                        },
                        "type": "barpolar"
                      }
                    ],
                    "carpet": [
                      {
                        "aaxis": {
                          "endlinecolor": "#2a3f5f",
                          "gridcolor": "white",
                          "linecolor": "white",
                          "minorgridcolor": "white",
                          "startlinecolor": "#2a3f5f"
                        },
                        "baxis": {
                          "endlinecolor": "#2a3f5f",
                          "gridcolor": "white",
                          "linecolor": "white",
                          "minorgridcolor": "white",
                          "startlinecolor": "#2a3f5f"
                        },
                        "type": "carpet"
                      }
                    ],
                    "choropleth": [
                      {
                        "colorbar": {
                          "outlinewidth": 0,
                          "ticks": ""
                        },
                        "type": "choropleth"
                      }
                    ],
                    "contour": [
                      {
                        "colorbar": {
                          "outlinewidth": 0,
                          "ticks": ""
                        },
                        "colorscale": [
                          [
                            0,
                            "#0d0887"
                          ],
                          [
                            0.1111111111111111,
                            "#46039f"
                          ],
                          [
                            0.2222222222222222,
                            "#7201a8"
                          ],
                          [
                            0.3333333333333333,
                            "#9c179e"
                          ],
                          [
                            0.4444444444444444,
                            "#bd3786"
                          ],
                          [
                            0.5555555555555556,
                            "#d8576b"
                          ],
                          [
                            0.6666666666666666,
                            "#ed7953"
                          ],
                          [
                            0.7777777777777778,
                            "#fb9f3a"
                          ],
                          [
                            0.8888888888888888,
                            "#fdca26"
                          ],
                          [
                            1,
                            "#f0f921"
                          ]
                        ],
                        "type": "contour"
                      }
                    ],
                    "contourcarpet": [
                      {
                        "colorbar": {
                          "outlinewidth": 0,
                          "ticks": ""
                        },
                        "type": "contourcarpet"
                      }
                    ],
                    "heatmap": [
                      {
                        "colorbar": {
                          "outlinewidth": 0,
                          "ticks": ""
                        },
                        "colorscale": [
                          [
                            0,
                            "#0d0887"
                          ],
                          [
                            0.1111111111111111,
                            "#46039f"
                          ],
                          [
                            0.2222222222222222,
                            "#7201a8"
                          ],
                          [
                            0.3333333333333333,
                            "#9c179e"
                          ],
                          [
                            0.4444444444444444,
                            "#bd3786"
                          ],
                          [
                            0.5555555555555556,
                            "#d8576b"
                          ],
                          [
                            0.6666666666666666,
                            "#ed7953"
                          ],
                          [
                            0.7777777777777778,
                            "#fb9f3a"
                          ],
                          [
                            0.8888888888888888,
                            "#fdca26"
                          ],
                          [
                            1,
                            "#f0f921"
                          ]
                        ],
                        "type": "heatmap"
                      }
                    ],
                    "heatmapgl": [
                      {
                        "colorbar": {
                          "outlinewidth": 0,
                          "ticks": ""
                        },
                        "colorscale": [
                          [
                            0,
                            "#0d0887"
                          ],
                          [
                            0.1111111111111111,
                            "#46039f"
                          ],
                          [
                            0.2222222222222222,
                            "#7201a8"
                          ],
                          [
                            0.3333333333333333,
                            "#9c179e"
                          ],
                          [
                            0.4444444444444444,
                            "#bd3786"
                          ],
                          [
                            0.5555555555555556,
                            "#d8576b"
                          ],
                          [
                            0.6666666666666666,
                            "#ed7953"
                          ],
                          [
                            0.7777777777777778,
                            "#fb9f3a"
                          ],
                          [
                            0.8888888888888888,
                            "#fdca26"
                          ],
                          [
                            1,
                            "#f0f921"
                          ]
                        ],
                        "type": "heatmapgl"
                      }
                    ],
                    "histogram": [
                      {
                        "marker": {
                          "pattern": {
                            "fillmode": "overlay",
                            "size": 10,
                            "solidity": 0.2
                          }
                        },
                        "type": "histogram"
                      }
                    ],
                    "histogram2d": [
                      {
                        "colorbar": {
                          "outlinewidth": 0,
                          "ticks": ""
                        },
                        "colorscale": [
                          [
                            0,
                            "#0d0887"
                          ],
                          [
                            0.1111111111111111,
                            "#46039f"
                          ],
                          [
                            0.2222222222222222,
                            "#7201a8"
                          ],
                          [
                            0.3333333333333333,
                            "#9c179e"
                          ],
                          [
                            0.4444444444444444,
                            "#bd3786"
                          ],
                          [
                            0.5555555555555556,
                            "#d8576b"
                          ],
                          [
                            0.6666666666666666,
                            "#ed7953"
                          ],
                          [
                            0.7777777777777778,
                            "#fb9f3a"
                          ],
                          [
                            0.8888888888888888,
                            "#fdca26"
                          ],
                          [
                            1,
                            "#f0f921"
                          ]
                        ],
                        "type": "histogram2d"
                      }
                    ],
                    "histogram2dcontour": [
                      {
                        "colorbar": {
                          "outlinewidth": 0,
                          "ticks": ""
                        },
                        "colorscale": [
                          [
                            0,
                            "#0d0887"
                          ],
                          [
                            0.1111111111111111,
                            "#46039f"
                          ],
                          [
                            0.2222222222222222,
                            "#7201a8"
                          ],
                          [
                            0.3333333333333333,
                            "#9c179e"
                          ],
                          [
                            0.4444444444444444,
                            "#bd3786"
                          ],
                          [
                            0.5555555555555556,
                            "#d8576b"
                          ],
                          [
                            0.6666666666666666,
                            "#ed7953"
                          ],
                          [
                            0.7777777777777778,
                            "#fb9f3a"
                          ],
                          [
                            0.8888888888888888,
                            "#fdca26"
                          ],
                          [
                            1,
                            "#f0f921"
                          ]
                        ],
                        "type": "histogram2dcontour"
                      }
                    ],
                    "mesh3d": [
                      {
                        "colorbar": {
                          "outlinewidth": 0,
                          "ticks": ""
                        },
                        "type": "mesh3d"
                      }
                    ],
                    "parcoords": [
                      {
                        "line": {
                          "colorbar": {
                            "outlinewidth": 0,
                            "ticks": ""
                          }
                        },
                        "type": "parcoords"
                      }
                    ],
                    "pie": [
                      {
                        "automargin": true,
                        "type": "pie"
                      }
                    ],
                    "scatter": [
                      {
                        "fillpattern": {
                          "fillmode": "overlay",
                          "size": 10,
                          "solidity": 0.2
                        },
                        "type": "scatter"
                      }
                    ],
                    "scatter3d": [
                      {
                        "line": {
                          "colorbar": {
                            "outlinewidth": 0,
                            "ticks": ""
                          }
                        },
                        "marker": {
                          "colorbar": {
                            "outlinewidth": 0,
                            "ticks": ""
                          }
                        },
                        "type": "scatter3d"
                      }
                    ],
                    "scattercarpet": [
                      {
                        "marker": {
                          "colorbar": {
                            "outlinewidth": 0,
                            "ticks": ""
                          }
                        },
                        "type": "scattercarpet"
                      }
                    ],
                    "scattergeo": [
                      {
                        "marker": {
                          "colorbar": {
                            "outlinewidth": 0,
                            "ticks": ""
                          }
                        },
                        "type": "scattergeo"
                      }
                    ],
                    "scattergl": [
                      {
                        "marker": {
                          "colorbar": {
                            "outlinewidth": 0,
                            "ticks": ""
                          }
                        },
                        "type": "scattergl"
                      }
                    ],
                    "scattermapbox": [
                      {
                        "marker": {
                          "colorbar": {
                            "outlinewidth": 0,
                            "ticks": ""
                          }
                        },
                        "type": "scattermapbox"
                      }
                    ],
                    "scatterpolar": [
                      {
                        "marker": {
                          "colorbar": {
                            "outlinewidth": 0,
                            "ticks": ""
                          }
                        },
                        "type": "scatterpolar"
                      }
                    ],
                    "scatterpolargl": [
                      {
                        "marker": {
                          "colorbar": {
                            "outlinewidth": 0,
                            "ticks": ""
                          }
                        },
                        "type": "scatterpolargl"
                      }
                    ],
                    "scatterternary": [
                      {
                        "marker": {
                          "colorbar": {
                            "outlinewidth": 0,
                            "ticks": ""
                          }
                        },
                        "type": "scatterternary"
                      }
                    ],
                    "surface": [
                      {
                        "colorbar": {
                          "outlinewidth": 0,
                          "ticks": ""
                        },
                        "colorscale": [
                          [
                            0,
                            "#0d0887"
                          ],
                          [
                            0.1111111111111111,
                            "#46039f"
                          ],
                          [
                            0.2222222222222222,
                            "#7201a8"
                          ],
                          [
                            0.3333333333333333,
                            "#9c179e"
                          ],
                          [
                            0.4444444444444444,
                            "#bd3786"
                          ],
                          [
                            0.5555555555555556,
                            "#d8576b"
                          ],
                          [
                            0.6666666666666666,
                            "#ed7953"
                          ],
                          [
                            0.7777777777777778,
                            "#fb9f3a"
                          ],
                          [
                            0.8888888888888888,
                            "#fdca26"
                          ],
                          [
                            1,
                            "#f0f921"
                          ]
                        ],
                        "type": "surface"
                      }
                    ],
                    "table": [
                      {
                        "cells": {
                          "fill": {
                            "color": "#EBF0F8"
                          },
                          "line": {
                            "color": "white"
                          }
                        },
                        "header": {
                          "fill": {
                            "color": "#C8D4E3"
                          },
                          "line": {
                            "color": "white"
                          }
                        },
                        "type": "table"
                      }
                    ]
                  },
                  "layout": {
                    "annotationdefaults": {
                      "arrowcolor": "#2a3f5f",
                      "arrowhead": 0,
                      "arrowwidth": 1
                    },
                    "autotypenumbers": "strict",
                    "coloraxis": {
                      "colorbar": {
                        "outlinewidth": 0,
                        "ticks": ""
                      }
                    },
                    "colorscale": {
                      "diverging": [
                        [
                          0,
                          "#8e0152"
                        ],
                        [
                          0.1,
                          "#c51b7d"
                        ],
                        [
                          0.2,
                          "#de77ae"
                        ],
                        [
                          0.3,
                          "#f1b6da"
                        ],
                        [
                          0.4,
                          "#fde0ef"
                        ],
                        [
                          0.5,
                          "#f7f7f7"
                        ],
                        [
                          0.6,
                          "#e6f5d0"
                        ],
                        [
                          0.7,
                          "#b8e186"
                        ],
                        [
                          0.8,
                          "#7fbc41"
                        ],
                        [
                          0.9,
                          "#4d9221"
                        ],
                        [
                          1,
                          "#276419"
                        ]
                      ],
                      "sequential": [
                        [
                          0,
                          "#0d0887"
                        ],
                        [
                          0.1111111111111111,
                          "#46039f"
                        ],
                        [
                          0.2222222222222222,
                          "#7201a8"
                        ],
                        [
                          0.3333333333333333,
                          "#9c179e"
                        ],
                        [
                          0.4444444444444444,
                          "#bd3786"
                        ],
                        [
                          0.5555555555555556,
                          "#d8576b"
                        ],
                        [
                          0.6666666666666666,
                          "#ed7953"
                        ],
                        [
                          0.7777777777777778,
                          "#fb9f3a"
                        ],
                        [
                          0.8888888888888888,
                          "#fdca26"
                        ],
                        [
                          1,
                          "#f0f921"
                        ]
                      ],
                      "sequentialminus": [
                        [
                          0,
                          "#0d0887"
                        ],
                        [
                          0.1111111111111111,
                          "#46039f"
                        ],
                        [
                          0.2222222222222222,
                          "#7201a8"
                        ],
                        [
                          0.3333333333333333,
                          "#9c179e"
                        ],
                        [
                          0.4444444444444444,
                          "#bd3786"
                        ],
                        [
                          0.5555555555555556,
                          "#d8576b"
                        ],
                        [
                          0.6666666666666666,
                          "#ed7953"
                        ],
                        [
                          0.7777777777777778,
                          "#fb9f3a"
                        ],
                        [
                          0.8888888888888888,
                          "#fdca26"
                        ],
                        [
                          1,
                          "#f0f921"
                        ]
                      ]
                    },
                    "colorway": [
                      "#636efa",
                      "#EF553B",
                      "#00cc96",
                      "#ab63fa",
                      "#FFA15A",
                      "#19d3f3",
                      "#FF6692",
                      "#B6E880",
                      "#FF97FF",
                      "#FECB52"
                    ],
                    "font": {
                      "color": "#2a3f5f"
                    },
                    "geo": {
                      "bgcolor": "white",
                      "lakecolor": "white",
                      "landcolor": "#E5ECF6",
                      "showlakes": true,
                      "showland": true,
                      "subunitcolor": "white"
                    },
                    "hoverlabel": {
                      "align": "left"
                    },
                    "hovermode": "closest",
                    "mapbox": {
                      "style": "light"
                    },
                    "paper_bgcolor": "white",
                    "plot_bgcolor": "#E5ECF6",
                    "polar": {
                      "angularaxis": {
                        "gridcolor": "white",
                        "linecolor": "white",
                        "ticks": ""
                      },
                      "bgcolor": "#E5ECF6",
                      "radialaxis": {
                        "gridcolor": "white",
                        "linecolor": "white",
                        "ticks": ""
                      }
                    },
                    "scene": {
                      "xaxis": {
                        "backgroundcolor": "#E5ECF6",
                        "gridcolor": "white",
                        "gridwidth": 2,
                        "linecolor": "white",
                        "showbackground": true,
                        "ticks": "",
                        "zerolinecolor": "white"
                      },
                      "yaxis": {
                        "backgroundcolor": "#E5ECF6",
                        "gridcolor": "white",
                        "gridwidth": 2,
                        "linecolor": "white",
                        "showbackground": true,
                        "ticks": "",
                        "zerolinecolor": "white"
                      },
                      "zaxis": {
                        "backgroundcolor": "#E5ECF6",
                        "gridcolor": "white",
                        "gridwidth": 2,
                        "linecolor": "white",
                        "showbackground": true,
                        "ticks": "",
                        "zerolinecolor": "white"
                      }
                    },
                    "shapedefaults": {
                      "line": {
                        "color": "#2a3f5f"
                      }
                    },
                    "ternary": {
                      "aaxis": {
                        "gridcolor": "white",
                        "linecolor": "white",
                        "ticks": ""
                      },
                      "baxis": {
                        "gridcolor": "white",
                        "linecolor": "white",
                        "ticks": ""
                      },
                      "bgcolor": "#E5ECF6",
                      "caxis": {
                        "gridcolor": "white",
                        "linecolor": "white",
                        "ticks": ""
                      }
                    },
                    "title": {
                      "x": 0.05
                    },
                    "xaxis": {
                      "automargin": true,
                      "gridcolor": "white",
                      "linecolor": "white",
                      "ticks": "",
                      "title": {
                        "standoff": 15
                      },
                      "zerolinecolor": "white",
                      "zerolinewidth": 2
                    },
                    "yaxis": {
                      "automargin": true,
                      "gridcolor": "white",
                      "linecolor": "white",
                      "ticks": "",
                      "title": {
                        "standoff": 15
                      },
                      "zerolinecolor": "white",
                      "zerolinewidth": 2
                    }
                  }
                },
                "title": {
                  "text": "<b>Doenças Pré-Existentes"
                },
                "xaxis": {
                  "anchor": "y",
                  "domain": [
                    0,
                    0.42
                  ],
                  "showgrid": true,
                  "showline": false,
                  "showticklabels": true,
                  "zeroline": false
                },
                "xaxis2": {
                  "anchor": "y2",
                  "domain": [
                    0.47,
                    1
                  ],
                  "dtick": 50000,
                  "showgrid": true,
                  "showline": false,
                  "showticklabels": true,
                  "side": "top",
                  "zeroline": false
                },
                "yaxis": {
                  "anchor": "x",
                  "domain": [
                    0,
                    0.85
                  ],
                  "showgrid": false,
                  "showline": false,
                  "showticklabels": true
                },
                "yaxis2": {
                  "anchor": "x2",
                  "domain": [
                    0,
                    0.85
                  ],
                  "linecolor": "rgba(102, 102, 102, 0.8)",
                  "linewidth": 2,
                  "showgrid": false,
                  "showline": true,
                  "showticklabels": false
                }
              }
            }
          },
          "metadata": {},
          "output_type": "display_data"
        }
      ],
      "source": [
        "fig = make_subplots(rows=1, cols=2, specs=[[{}, {}]], shared_xaxes=True,\n",
        "                    shared_yaxes=False, vertical_spacing=0.001)\n",
        "\n",
        "fig.append_trace(go.Bar(\n",
        "    x=illness_graph_data_melt['Percent'],\n",
        "    y=illness_graph_data_melt['Doenca'],\n",
        "    marker=dict(\n",
        "        color='rgba(50, 171, 96, 0.6)',\n",
        "        line=dict(\n",
        "            color='rgba(50, 171, 96, 1.0)',\n",
        "            width=1),\n",
        "    ),\n",
        "    name='(%)',\n",
        "    orientation='h',\n",
        "), 1, 1)\n",
        "\n",
        "fig.append_trace(go.Scatter(\n",
        "    x=illness_graph_data_melt['Total'],\n",
        "    y=illness_graph_data_melt['Doenca'],\n",
        "    mode='lines+markers',\n",
        "    line_color='rgb(128,0,128)',\n",
        "    name='Total',\n",
        "),1,2)\n",
        "\n",
        "fig.update_layout(\n",
        "    title = '<b>Doenças Pré-Existentes',\n",
        "    yaxis=dict(\n",
        "        showgrid=False,\n",
        "        showline=False,\n",
        "        showticklabels = True,\n",
        "        domain=[0, 0.85],\n",
        "    ),\n",
        "    yaxis2=dict(\n",
        "        showgrid=False,\n",
        "        showline=True,\n",
        "        showticklabels=False,\n",
        "        linecolor='rgba(102, 102, 102, 0.8)',\n",
        "        linewidth=2,\n",
        "        domain=[0, 0.85],\n",
        "    ),\n",
        "        xaxis=dict(\n",
        "        zeroline=False,\n",
        "        showline=False,\n",
        "        showticklabels=True,\n",
        "        showgrid=True,\n",
        "        domain=[0, 0.42],\n",
        "    ),\n",
        "    xaxis2=dict(\n",
        "        zeroline=False,\n",
        "        showline=False,\n",
        "        showticklabels=True,\n",
        "        showgrid=True,\n",
        "        domain=[0.47, 1],\n",
        "        side='top',\n",
        "        dtick=50000,),\n",
        "\n",
        "    legend=dict(x=0.029, y=1.038, font_size=10),\n",
        "    margin=dict(l=100, r=20, t=70, b=70),\n",
        "    paper_bgcolor='rgb(248, 248, 255)',\n",
        "    plot_bgcolor='rgb(248, 248, 255)',\n",
        ")\n",
        "\n",
        "annotations = []\n",
        "\n",
        "y_s = np.round(illness_graph_data_melt['Percent'], decimals=2)\n",
        "y_nw = np.rint(illness_graph_data_melt['Total'])\n",
        "\n",
        "#labels\n",
        "for ydn, yd, xd in zip(y_nw, y_s, illness_graph_data_melt['Doenca']):\n",
        "    # scatter\n",
        "    annotations.append(dict(xref='x2', yref='y1',\n",
        "                            y=xd, x=ydn - 20000,\n",
        "                            text='{:.0f}'.format(ydn/1000) + 'k',\n",
        "                            font=dict(family='Arial', size=12,\n",
        "                                      color='rgb(128, 0, 128)'),\n",
        "                            showarrow=False))\n",
        "    # bar\n",
        "    annotations.append(dict(xref='x1', yref='y1',\n",
        "                            y=xd, x=yd + 3,\n",
        "                            text=str(yd) + '%',\n",
        "                            font=dict(family='Arial', size=12,\n",
        "                                      color='rgb(50, 171, 96)'),\n",
        "                            showarrow=False))\n",
        "\n",
        "fig.update_layout(annotations=annotations)\n",
        "fig.show()"
      ]
    },
    {
      "cell_type": "markdown",
      "metadata": {
        "id": "MyBS_YX1zjtX"
      },
      "source": [
        "### 4- Baseado nesses dados, faça um modelo que estime a probabilidade da pessoa morrer, uma vez que está contaminada com covid, e considerando os inputs de idade, gênero e doenças pré-existentes"
      ]
    },
    {
      "cell_type": "code",
      "execution_count": 67,
      "metadata": {
        "id": "Jv3WA2WLzjtX"
      },
      "outputs": [],
      "source": [
        "prob_data = data[['Idade', 'Asma', 'Cardiopatia', 'Diabetes',\n",
        "       'Doenca_Hematologica', 'Doenca_Hepatica',\n",
        "       'Doenca_Neurologica', 'Doenca Renal', 'Genero',\n",
        "       'Imunodepressao', 'Obesidade',\n",
        "       'Pneumopatia', 'Puérpera',\n",
        "       'Síndrome_De_Down', 'Diagnostico_Covid19','Obito']]"
      ]
    },
    {
      "cell_type": "code",
      "execution_count": 68,
      "metadata": {
        "id": "kWt-hpX17Mfs"
      },
      "outputs": [],
      "source": [
        "size_sample = int(len(prob_data)*0.15)\n",
        "np.random.seed(1)"
      ]
    },
    {
      "cell_type": "code",
      "execution_count": 69,
      "metadata": {
        "id": "_CrKTpfA6oh5"
      },
      "outputs": [],
      "source": [
        "prob_data_sample = prob_data.sample(n=size_sample, replace=False)"
      ]
    },
    {
      "cell_type": "code",
      "execution_count": 70,
      "metadata": {
        "colab": {
          "base_uri": "https://localhost:8080/",
          "height": 505
        },
        "id": "HAFDYul7zjtY",
        "outputId": "3519feac-f378-4eb6-b04a-70d56fc59a66"
      },
      "outputs": [
        {
          "data": {
            "text/html": [
              "<div>\n",
              "<style scoped>\n",
              "    .dataframe tbody tr th:only-of-type {\n",
              "        vertical-align: middle;\n",
              "    }\n",
              "\n",
              "    .dataframe tbody tr th {\n",
              "        vertical-align: top;\n",
              "    }\n",
              "\n",
              "    .dataframe thead th {\n",
              "        text-align: right;\n",
              "    }\n",
              "</style>\n",
              "<table border=\"1\" class=\"dataframe\">\n",
              "  <thead>\n",
              "    <tr style=\"text-align: right;\">\n",
              "      <th></th>\n",
              "      <th>Idade</th>\n",
              "      <th>Asma</th>\n",
              "      <th>Cardiopatia</th>\n",
              "      <th>Diabetes</th>\n",
              "      <th>Doenca_Hematologica</th>\n",
              "      <th>Doenca_Hepatica</th>\n",
              "      <th>Doenca_Neurologica</th>\n",
              "      <th>Doenca Renal</th>\n",
              "      <th>Genero</th>\n",
              "      <th>Imunodepressao</th>\n",
              "      <th>Obesidade</th>\n",
              "      <th>Pneumopatia</th>\n",
              "      <th>Puérpera</th>\n",
              "      <th>Síndrome_De_Down</th>\n",
              "      <th>Diagnostico_Covid19</th>\n",
              "      <th>Obito</th>\n",
              "    </tr>\n",
              "  </thead>\n",
              "  <tbody>\n",
              "    <tr>\n",
              "      <th>3677818</th>\n",
              "      <td>17</td>\n",
              "      <td>IGNORADO</td>\n",
              "      <td>IGNORADO</td>\n",
              "      <td>IGNORADO</td>\n",
              "      <td>IGNORADO</td>\n",
              "      <td>IGNORADO</td>\n",
              "      <td>IGNORADO</td>\n",
              "      <td>IGNORADO</td>\n",
              "      <td>FEMININO</td>\n",
              "      <td>IGNORADO</td>\n",
              "      <td>IGNORADO</td>\n",
              "      <td>IGNORADO</td>\n",
              "      <td>IGNORADO</td>\n",
              "      <td>IGNORADO</td>\n",
              "      <td>CONFIRMADO</td>\n",
              "      <td>0</td>\n",
              "    </tr>\n",
              "    <tr>\n",
              "      <th>5725470</th>\n",
              "      <td>43</td>\n",
              "      <td>IGNORADO</td>\n",
              "      <td>IGNORADO</td>\n",
              "      <td>IGNORADO</td>\n",
              "      <td>IGNORADO</td>\n",
              "      <td>IGNORADO</td>\n",
              "      <td>IGNORADO</td>\n",
              "      <td>IGNORADO</td>\n",
              "      <td>FEMININO</td>\n",
              "      <td>IGNORADO</td>\n",
              "      <td>IGNORADO</td>\n",
              "      <td>IGNORADO</td>\n",
              "      <td>IGNORADO</td>\n",
              "      <td>IGNORADO</td>\n",
              "      <td>CONFIRMADO</td>\n",
              "      <td>0</td>\n",
              "    </tr>\n",
              "    <tr>\n",
              "      <th>5856421</th>\n",
              "      <td>57</td>\n",
              "      <td>IGNORADO</td>\n",
              "      <td>IGNORADO</td>\n",
              "      <td>IGNORADO</td>\n",
              "      <td>IGNORADO</td>\n",
              "      <td>IGNORADO</td>\n",
              "      <td>IGNORADO</td>\n",
              "      <td>IGNORADO</td>\n",
              "      <td>MASCULINO</td>\n",
              "      <td>IGNORADO</td>\n",
              "      <td>IGNORADO</td>\n",
              "      <td>IGNORADO</td>\n",
              "      <td>IGNORADO</td>\n",
              "      <td>IGNORADO</td>\n",
              "      <td>CONFIRMADO</td>\n",
              "      <td>0</td>\n",
              "    </tr>\n",
              "    <tr>\n",
              "      <th>587623</th>\n",
              "      <td>74</td>\n",
              "      <td>IGNORADO</td>\n",
              "      <td>IGNORADO</td>\n",
              "      <td>SIM</td>\n",
              "      <td>IGNORADO</td>\n",
              "      <td>IGNORADO</td>\n",
              "      <td>IGNORADO</td>\n",
              "      <td>IGNORADO</td>\n",
              "      <td>MASCULINO</td>\n",
              "      <td>IGNORADO</td>\n",
              "      <td>IGNORADO</td>\n",
              "      <td>IGNORADO</td>\n",
              "      <td>IGNORADO</td>\n",
              "      <td>IGNORADO</td>\n",
              "      <td>CONFIRMADO</td>\n",
              "      <td>0</td>\n",
              "    </tr>\n",
              "    <tr>\n",
              "      <th>230656</th>\n",
              "      <td>49</td>\n",
              "      <td>IGNORADO</td>\n",
              "      <td>IGNORADO</td>\n",
              "      <td>IGNORADO</td>\n",
              "      <td>IGNORADO</td>\n",
              "      <td>IGNORADO</td>\n",
              "      <td>IGNORADO</td>\n",
              "      <td>IGNORADO</td>\n",
              "      <td>MASCULINO</td>\n",
              "      <td>IGNORADO</td>\n",
              "      <td>IGNORADO</td>\n",
              "      <td>IGNORADO</td>\n",
              "      <td>IGNORADO</td>\n",
              "      <td>IGNORADO</td>\n",
              "      <td>CONFIRMADO</td>\n",
              "      <td>0</td>\n",
              "    </tr>\n",
              "    <tr>\n",
              "      <th>...</th>\n",
              "      <td>...</td>\n",
              "      <td>...</td>\n",
              "      <td>...</td>\n",
              "      <td>...</td>\n",
              "      <td>...</td>\n",
              "      <td>...</td>\n",
              "      <td>...</td>\n",
              "      <td>...</td>\n",
              "      <td>...</td>\n",
              "      <td>...</td>\n",
              "      <td>...</td>\n",
              "      <td>...</td>\n",
              "      <td>...</td>\n",
              "      <td>...</td>\n",
              "      <td>...</td>\n",
              "      <td>...</td>\n",
              "    </tr>\n",
              "    <tr>\n",
              "      <th>6125931</th>\n",
              "      <td>37</td>\n",
              "      <td>IGNORADO</td>\n",
              "      <td>IGNORADO</td>\n",
              "      <td>IGNORADO</td>\n",
              "      <td>IGNORADO</td>\n",
              "      <td>IGNORADO</td>\n",
              "      <td>IGNORADO</td>\n",
              "      <td>IGNORADO</td>\n",
              "      <td>FEMININO</td>\n",
              "      <td>IGNORADO</td>\n",
              "      <td>IGNORADO</td>\n",
              "      <td>IGNORADO</td>\n",
              "      <td>IGNORADO</td>\n",
              "      <td>IGNORADO</td>\n",
              "      <td>CONFIRMADO</td>\n",
              "      <td>0</td>\n",
              "    </tr>\n",
              "    <tr>\n",
              "      <th>3568000</th>\n",
              "      <td>17</td>\n",
              "      <td>IGNORADO</td>\n",
              "      <td>IGNORADO</td>\n",
              "      <td>IGNORADO</td>\n",
              "      <td>IGNORADO</td>\n",
              "      <td>IGNORADO</td>\n",
              "      <td>IGNORADO</td>\n",
              "      <td>IGNORADO</td>\n",
              "      <td>FEMININO</td>\n",
              "      <td>IGNORADO</td>\n",
              "      <td>IGNORADO</td>\n",
              "      <td>IGNORADO</td>\n",
              "      <td>IGNORADO</td>\n",
              "      <td>IGNORADO</td>\n",
              "      <td>CONFIRMADO</td>\n",
              "      <td>0</td>\n",
              "    </tr>\n",
              "    <tr>\n",
              "      <th>1888136</th>\n",
              "      <td>6</td>\n",
              "      <td>IGNORADO</td>\n",
              "      <td>IGNORADO</td>\n",
              "      <td>IGNORADO</td>\n",
              "      <td>IGNORADO</td>\n",
              "      <td>IGNORADO</td>\n",
              "      <td>IGNORADO</td>\n",
              "      <td>IGNORADO</td>\n",
              "      <td>FEMININO</td>\n",
              "      <td>IGNORADO</td>\n",
              "      <td>IGNORADO</td>\n",
              "      <td>IGNORADO</td>\n",
              "      <td>IGNORADO</td>\n",
              "      <td>IGNORADO</td>\n",
              "      <td>CONFIRMADO</td>\n",
              "      <td>0</td>\n",
              "    </tr>\n",
              "    <tr>\n",
              "      <th>3398936</th>\n",
              "      <td>22</td>\n",
              "      <td>IGNORADO</td>\n",
              "      <td>IGNORADO</td>\n",
              "      <td>IGNORADO</td>\n",
              "      <td>IGNORADO</td>\n",
              "      <td>IGNORADO</td>\n",
              "      <td>IGNORADO</td>\n",
              "      <td>IGNORADO</td>\n",
              "      <td>MASCULINO</td>\n",
              "      <td>IGNORADO</td>\n",
              "      <td>IGNORADO</td>\n",
              "      <td>IGNORADO</td>\n",
              "      <td>IGNORADO</td>\n",
              "      <td>IGNORADO</td>\n",
              "      <td>CONFIRMADO</td>\n",
              "      <td>0</td>\n",
              "    </tr>\n",
              "    <tr>\n",
              "      <th>3171123</th>\n",
              "      <td>50</td>\n",
              "      <td>IGNORADO</td>\n",
              "      <td>IGNORADO</td>\n",
              "      <td>IGNORADO</td>\n",
              "      <td>IGNORADO</td>\n",
              "      <td>IGNORADO</td>\n",
              "      <td>IGNORADO</td>\n",
              "      <td>IGNORADO</td>\n",
              "      <td>MASCULINO</td>\n",
              "      <td>IGNORADO</td>\n",
              "      <td>IGNORADO</td>\n",
              "      <td>IGNORADO</td>\n",
              "      <td>IGNORADO</td>\n",
              "      <td>IGNORADO</td>\n",
              "      <td>CONFIRMADO</td>\n",
              "      <td>0</td>\n",
              "    </tr>\n",
              "  </tbody>\n",
              "</table>\n",
              "<p>965307 rows × 16 columns</p>\n",
              "</div>"
            ],
            "text/plain": [
              "         Idade      Asma Cardiopatia  Diabetes Doenca_Hematologica  \\\n",
              "3677818     17  IGNORADO    IGNORADO  IGNORADO            IGNORADO   \n",
              "5725470     43  IGNORADO    IGNORADO  IGNORADO            IGNORADO   \n",
              "5856421     57  IGNORADO    IGNORADO  IGNORADO            IGNORADO   \n",
              "587623      74  IGNORADO    IGNORADO       SIM            IGNORADO   \n",
              "230656      49  IGNORADO    IGNORADO  IGNORADO            IGNORADO   \n",
              "...        ...       ...         ...       ...                 ...   \n",
              "6125931     37  IGNORADO    IGNORADO  IGNORADO            IGNORADO   \n",
              "3568000     17  IGNORADO    IGNORADO  IGNORADO            IGNORADO   \n",
              "1888136      6  IGNORADO    IGNORADO  IGNORADO            IGNORADO   \n",
              "3398936     22  IGNORADO    IGNORADO  IGNORADO            IGNORADO   \n",
              "3171123     50  IGNORADO    IGNORADO  IGNORADO            IGNORADO   \n",
              "\n",
              "        Doenca_Hepatica Doenca_Neurologica Doenca Renal     Genero  \\\n",
              "3677818        IGNORADO           IGNORADO     IGNORADO   FEMININO   \n",
              "5725470        IGNORADO           IGNORADO     IGNORADO   FEMININO   \n",
              "5856421        IGNORADO           IGNORADO     IGNORADO  MASCULINO   \n",
              "587623         IGNORADO           IGNORADO     IGNORADO  MASCULINO   \n",
              "230656         IGNORADO           IGNORADO     IGNORADO  MASCULINO   \n",
              "...                 ...                ...          ...        ...   \n",
              "6125931        IGNORADO           IGNORADO     IGNORADO   FEMININO   \n",
              "3568000        IGNORADO           IGNORADO     IGNORADO   FEMININO   \n",
              "1888136        IGNORADO           IGNORADO     IGNORADO   FEMININO   \n",
              "3398936        IGNORADO           IGNORADO     IGNORADO  MASCULINO   \n",
              "3171123        IGNORADO           IGNORADO     IGNORADO  MASCULINO   \n",
              "\n",
              "        Imunodepressao Obesidade Pneumopatia  Puérpera Síndrome_De_Down  \\\n",
              "3677818       IGNORADO  IGNORADO    IGNORADO  IGNORADO         IGNORADO   \n",
              "5725470       IGNORADO  IGNORADO    IGNORADO  IGNORADO         IGNORADO   \n",
              "5856421       IGNORADO  IGNORADO    IGNORADO  IGNORADO         IGNORADO   \n",
              "587623        IGNORADO  IGNORADO    IGNORADO  IGNORADO         IGNORADO   \n",
              "230656        IGNORADO  IGNORADO    IGNORADO  IGNORADO         IGNORADO   \n",
              "...                ...       ...         ...       ...              ...   \n",
              "6125931       IGNORADO  IGNORADO    IGNORADO  IGNORADO         IGNORADO   \n",
              "3568000       IGNORADO  IGNORADO    IGNORADO  IGNORADO         IGNORADO   \n",
              "1888136       IGNORADO  IGNORADO    IGNORADO  IGNORADO         IGNORADO   \n",
              "3398936       IGNORADO  IGNORADO    IGNORADO  IGNORADO         IGNORADO   \n",
              "3171123       IGNORADO  IGNORADO    IGNORADO  IGNORADO         IGNORADO   \n",
              "\n",
              "        Diagnostico_Covid19  Obito  \n",
              "3677818          CONFIRMADO      0  \n",
              "5725470          CONFIRMADO      0  \n",
              "5856421          CONFIRMADO      0  \n",
              "587623           CONFIRMADO      0  \n",
              "230656           CONFIRMADO      0  \n",
              "...                     ...    ...  \n",
              "6125931          CONFIRMADO      0  \n",
              "3568000          CONFIRMADO      0  \n",
              "1888136          CONFIRMADO      0  \n",
              "3398936          CONFIRMADO      0  \n",
              "3171123          CONFIRMADO      0  \n",
              "\n",
              "[965307 rows x 16 columns]"
            ]
          },
          "execution_count": 70,
          "metadata": {},
          "output_type": "execute_result"
        }
      ],
      "source": [
        "prob_data_sample"
      ]
    },
    {
      "cell_type": "code",
      "execution_count": 71,
      "metadata": {
        "id": "9NpnDpt6zjtY"
      },
      "outputs": [],
      "source": [
        "x_covid = prob_data_sample.iloc[:,0:15].values"
      ]
    },
    {
      "cell_type": "code",
      "execution_count": 72,
      "metadata": {
        "colab": {
          "base_uri": "https://localhost:8080/"
        },
        "id": "p5PvtqnTzjtY",
        "outputId": "aea4ecc9-6127-402a-c42e-ebdae2013266"
      },
      "outputs": [
        {
          "data": {
            "text/plain": [
              "array([[17, 'IGNORADO', 'IGNORADO', ..., 'IGNORADO', 'IGNORADO',\n",
              "        'CONFIRMADO'],\n",
              "       [43, 'IGNORADO', 'IGNORADO', ..., 'IGNORADO', 'IGNORADO',\n",
              "        'CONFIRMADO'],\n",
              "       [57, 'IGNORADO', 'IGNORADO', ..., 'IGNORADO', 'IGNORADO',\n",
              "        'CONFIRMADO'],\n",
              "       ...,\n",
              "       [6, 'IGNORADO', 'IGNORADO', ..., 'IGNORADO', 'IGNORADO',\n",
              "        'CONFIRMADO'],\n",
              "       [22, 'IGNORADO', 'IGNORADO', ..., 'IGNORADO', 'IGNORADO',\n",
              "        'CONFIRMADO'],\n",
              "       [50, 'IGNORADO', 'IGNORADO', ..., 'IGNORADO', 'IGNORADO',\n",
              "        'CONFIRMADO']], dtype=object)"
            ]
          },
          "execution_count": 72,
          "metadata": {},
          "output_type": "execute_result"
        }
      ],
      "source": [
        "x_covid"
      ]
    },
    {
      "cell_type": "code",
      "execution_count": 73,
      "metadata": {
        "colab": {
          "base_uri": "https://localhost:8080/"
        },
        "id": "HodH_pgIzjtY",
        "outputId": "bae2412e-7dcd-4f89-9bad-c7575a65adf3"
      },
      "outputs": [
        {
          "data": {
            "text/plain": [
              "array([17, 'IGNORADO', 'IGNORADO', 'IGNORADO', 'IGNORADO', 'IGNORADO',\n",
              "       'IGNORADO', 'IGNORADO', 'FEMININO', 'IGNORADO', 'IGNORADO',\n",
              "       'IGNORADO', 'IGNORADO', 'IGNORADO', 'CONFIRMADO'], dtype=object)"
            ]
          },
          "execution_count": 73,
          "metadata": {},
          "output_type": "execute_result"
        }
      ],
      "source": [
        "x_covid[0]"
      ]
    },
    {
      "cell_type": "code",
      "execution_count": 74,
      "metadata": {
        "id": "LF_yzpW1zjtY"
      },
      "outputs": [],
      "source": [
        "y_covid = prob_data_sample.iloc[:, 15].values"
      ]
    },
    {
      "cell_type": "code",
      "execution_count": 75,
      "metadata": {
        "colab": {
          "base_uri": "https://localhost:8080/"
        },
        "id": "T5O0h-c7zjtY",
        "outputId": "e97f57dd-4518-488e-b288-f7e5d18d1ad1"
      },
      "outputs": [
        {
          "data": {
            "text/plain": [
              "array([0, 0, 0, ..., 0, 0, 0], dtype=int64)"
            ]
          },
          "execution_count": 75,
          "metadata": {},
          "output_type": "execute_result"
        }
      ],
      "source": [
        "y_covid"
      ]
    },
    {
      "cell_type": "code",
      "execution_count": 76,
      "metadata": {
        "id": "2cdrTLj4zjtZ"
      },
      "outputs": [],
      "source": [
        "import sklearn\n",
        "from sklearn.preprocessing import LabelEncoder\n",
        "from sklearn.preprocessing import OneHotEncoder\n",
        "from sklearn.compose import ColumnTransformer\n",
        "from sklearn.preprocessing import StandardScaler\n",
        "from sklearn.model_selection import train_test_split\n",
        "from sklearn.ensemble import RandomForestClassifier\n",
        "from sklearn.metrics import accuracy_score, classification_report"
      ]
    },
    {
      "cell_type": "code",
      "execution_count": 77,
      "metadata": {
        "id": "ut2UgkhzzjtZ"
      },
      "outputs": [],
      "source": [
        "labelencd_asma = LabelEncoder()\n",
        "labelencd_card = LabelEncoder()\n",
        "labelencd_diab = LabelEncoder()\n",
        "labelencd_hemato = LabelEncoder()\n",
        "labelencd_hepa = LabelEncoder()\n",
        "labelencd_neuro = LabelEncoder()\n",
        "labelencd_renal = LabelEncoder()\n",
        "labelencd_gen = LabelEncoder()\n",
        "labelencd_imuno = LabelEncoder()\n",
        "labelencd_obes = LabelEncoder()\n",
        "labelencd_pneu = LabelEncoder()\n",
        "labelencd_puer = LabelEncoder()\n",
        "labelencd_sindd = LabelEncoder()\n",
        "labelencd_diag = LabelEncoder()\n"
      ]
    },
    {
      "cell_type": "code",
      "execution_count": 78,
      "metadata": {
        "id": "SNBsFpvwzjtZ"
      },
      "outputs": [],
      "source": [
        "x_covid[:,1] = labelencd_asma.fit_transform(x_covid[:,1])\n",
        "x_covid[:,2] = labelencd_card.fit_transform(x_covid[:,2])\n",
        "x_covid[:,3] = labelencd_diab.fit_transform(x_covid[:,3])\n",
        "x_covid[:,4] = labelencd_hemato.fit_transform(x_covid[:,4])\n",
        "x_covid[:,5] = labelencd_hepa.fit_transform(x_covid[:,5])\n",
        "x_covid[:,6] = labelencd_neuro.fit_transform(x_covid[:,6])\n",
        "x_covid[:,7] = labelencd_renal.fit_transform(x_covid[:,7])\n",
        "x_covid[:,8] = labelencd_gen.fit_transform(x_covid[:,8])\n",
        "x_covid[:,9] = labelencd_imuno.fit_transform(x_covid[:,9])\n",
        "x_covid[:,10] = labelencd_obes.fit_transform(x_covid[:,10])\n",
        "x_covid[:,11] = labelencd_pneu.fit_transform(x_covid[:,11])\n",
        "x_covid[:,12] = labelencd_puer.fit_transform(x_covid[:,12])\n",
        "x_covid[:,13] = labelencd_sindd.fit_transform(x_covid[:,13])\n",
        "x_covid[:,14] = labelencd_diag.fit_transform(x_covid[:,14])"
      ]
    },
    {
      "cell_type": "code",
      "execution_count": 79,
      "metadata": {
        "colab": {
          "base_uri": "https://localhost:8080/"
        },
        "id": "Ap_xDenVzjtZ",
        "outputId": "af2fc1dc-1f15-4672-a67f-189a0607e4f0"
      },
      "outputs": [
        {
          "data": {
            "text/plain": [
              "array([[17, 0, 0, ..., 0, 0, 0],\n",
              "       [43, 0, 0, ..., 0, 0, 0],\n",
              "       [57, 0, 0, ..., 0, 0, 0],\n",
              "       ...,\n",
              "       [6, 0, 0, ..., 0, 0, 0],\n",
              "       [22, 0, 0, ..., 0, 0, 0],\n",
              "       [50, 0, 0, ..., 0, 0, 0]], dtype=object)"
            ]
          },
          "execution_count": 79,
          "metadata": {},
          "output_type": "execute_result"
        }
      ],
      "source": [
        "x_covid"
      ]
    },
    {
      "cell_type": "code",
      "execution_count": 80,
      "metadata": {
        "id": "KYqasahFzjtZ"
      },
      "outputs": [],
      "source": [
        "onehotencoder_covid= ColumnTransformer(transformers=[('OneHot', OneHotEncoder(),[1,2,3,4,5,6,7,8,9,10,11,12,13,14])], remainder='passthrough')"
      ]
    },
    {
      "cell_type": "code",
      "execution_count": 81,
      "metadata": {
        "id": "CXv3DqUlzjta"
      },
      "outputs": [],
      "source": [
        "x_covid = onehotencoder_covid.fit_transform(x_covid)"
      ]
    },
    {
      "cell_type": "code",
      "execution_count": 82,
      "metadata": {
        "colab": {
          "base_uri": "https://localhost:8080/"
        },
        "id": "9QLELihn8SwH",
        "outputId": "4a564bcc-8b8d-497d-a068-00aaed54a70b"
      },
      "outputs": [
        {
          "data": {
            "text/plain": [
              "array([[1.0, 0.0, 0.0, ..., 0.0, 1.0, 17],\n",
              "       [1.0, 0.0, 0.0, ..., 0.0, 1.0, 43],\n",
              "       [1.0, 0.0, 0.0, ..., 0.0, 1.0, 57],\n",
              "       ...,\n",
              "       [1.0, 0.0, 0.0, ..., 0.0, 1.0, 6],\n",
              "       [1.0, 0.0, 0.0, ..., 0.0, 1.0, 22],\n",
              "       [1.0, 0.0, 0.0, ..., 0.0, 1.0, 50]], dtype=object)"
            ]
          },
          "execution_count": 82,
          "metadata": {},
          "output_type": "execute_result"
        }
      ],
      "source": [
        "x_covid"
      ]
    },
    {
      "cell_type": "code",
      "execution_count": 83,
      "metadata": {
        "id": "1sg1ZN0B865a"
      },
      "outputs": [],
      "source": [
        "scaler_covid = StandardScaler()"
      ]
    },
    {
      "cell_type": "code",
      "execution_count": 84,
      "metadata": {
        "id": "NzzQ3AK-9Rhu"
      },
      "outputs": [],
      "source": [
        "x_covid = scaler_covid.fit_transform(x_covid)"
      ]
    },
    {
      "cell_type": "code",
      "execution_count": 85,
      "metadata": {
        "colab": {
          "base_uri": "https://localhost:8080/"
        },
        "id": "ZwKdWLeJ9Z_G",
        "outputId": "a62029ad-2e65-48e8-f533-005870d67ec7"
      },
      "outputs": [
        {
          "data": {
            "text/plain": [
              "array([ 0.19469874, -0.18761538, -0.05026739,  0.31148763, -0.12684704,\n",
              "       -0.27980826,  0.2751247 , -0.15038774, -0.22516029,  0.19326991,\n",
              "       -0.19120707, -0.02716861,  0.19284557, -0.19072338, -0.027529  ,\n",
              "        0.1961443 , -0.18593729, -0.06035858,  0.20013108, -0.1861459 ,\n",
              "       -0.07103164,  0.90796912, -0.90796912,  0.20402148, -0.18788149,\n",
              "       -0.0768121 ,  0.19785804, -0.17623149, -0.08722624,  0.19595911,\n",
              "       -0.18674084, -0.05739082,  0.19233066, -0.19150376, -0.01718517,\n",
              "        0.19296689, -0.19226404, -0.01586811,  0.        , -1.30747221])"
            ]
          },
          "execution_count": 85,
          "metadata": {},
          "output_type": "execute_result"
        }
      ],
      "source": [
        "x_covid[0]"
      ]
    },
    {
      "cell_type": "code",
      "execution_count": 86,
      "metadata": {
        "id": "zYsZub_V9zkQ"
      },
      "outputs": [],
      "source": [
        "x_covid_training, x_covid_test, y_covid_training, y_covid_test = train_test_split(x_covid, y_covid, test_size= 0.20, random_state = 0)"
      ]
    },
    {
      "cell_type": "code",
      "execution_count": 87,
      "metadata": {
        "colab": {
          "base_uri": "https://localhost:8080/"
        },
        "id": "ZSH9358lF5T0",
        "outputId": "ae027cc5-31ad-4360-944b-23d33b819425"
      },
      "outputs": [
        {
          "data": {
            "text/plain": [
              "((772245, 40), (193062, 40))"
            ]
          },
          "execution_count": 87,
          "metadata": {},
          "output_type": "execute_result"
        }
      ],
      "source": [
        "x_covid_training.shape, x_covid_test.shape"
      ]
    },
    {
      "cell_type": "code",
      "execution_count": 88,
      "metadata": {
        "colab": {
          "base_uri": "https://localhost:8080/"
        },
        "id": "uCBV1YocF8O3",
        "outputId": "54720618-8eb8-4985-f9c0-82f6f07a6e03"
      },
      "outputs": [
        {
          "data": {
            "text/plain": [
              "((772245,), (193062,))"
            ]
          },
          "execution_count": 88,
          "metadata": {},
          "output_type": "execute_result"
        }
      ],
      "source": [
        "y_covid_training.shape, y_covid_test.shape"
      ]
    },
    {
      "cell_type": "code",
      "execution_count": 89,
      "metadata": {
        "id": "P3Fc2RmuCtid"
      },
      "outputs": [],
      "source": [
        "# import pickle\n",
        "# with open('covid.pkl', mode='wb') as f:\n",
        "#   pickle.dump([x_covid_training, y_covid_training, x_covid_test, y_covid_test], f)"
      ]
    },
    {
      "cell_type": "code",
      "execution_count": 90,
      "metadata": {
        "id": "XsQt5Sa4Ek-P"
      },
      "outputs": [],
      "source": [
        "# with open('covid.pkl', 'rb') as f:\n",
        "#   x_covid_training, x_covid_test, y_covid_training, y_covid_test = pickle.load(f)"
      ]
    },
    {
      "cell_type": "code",
      "execution_count": 91,
      "metadata": {
        "colab": {
          "base_uri": "https://localhost:8080/"
        },
        "id": "630PMzd_E7CP",
        "outputId": "88ba1c6e-941a-49ad-e523-f62eb9eba190"
      },
      "outputs": [
        {
          "data": {
            "text/plain": [
              "((772245, 40), (193062, 40))"
            ]
          },
          "execution_count": 91,
          "metadata": {},
          "output_type": "execute_result"
        }
      ],
      "source": [
        "x_covid_training.shape, x_covid_test.shape"
      ]
    },
    {
      "cell_type": "code",
      "execution_count": 92,
      "metadata": {
        "colab": {
          "base_uri": "https://localhost:8080/"
        },
        "id": "oz-kbKFAFCAw",
        "outputId": "9458bfea-f00b-4d7d-dbca-fa150ed9d00c"
      },
      "outputs": [
        {
          "data": {
            "text/plain": [
              "((772245,), (193062,))"
            ]
          },
          "execution_count": 92,
          "metadata": {},
          "output_type": "execute_result"
        }
      ],
      "source": [
        "y_covid_training.shape, y_covid_test.shape"
      ]
    },
    {
      "cell_type": "code",
      "execution_count": 93,
      "metadata": {
        "colab": {
          "base_uri": "https://localhost:8080/",
          "height": 75
        },
        "id": "Ph1uzTK-FIuC",
        "outputId": "43348b05-d0db-4860-cf7f-584d28d20e62"
      },
      "outputs": [
        {
          "data": {
            "text/html": [
              "<style>#sk-container-id-1 {color: black;background-color: white;}#sk-container-id-1 pre{padding: 0;}#sk-container-id-1 div.sk-toggleable {background-color: white;}#sk-container-id-1 label.sk-toggleable__label {cursor: pointer;display: block;width: 100%;margin-bottom: 0;padding: 0.3em;box-sizing: border-box;text-align: center;}#sk-container-id-1 label.sk-toggleable__label-arrow:before {content: \"▸\";float: left;margin-right: 0.25em;color: #696969;}#sk-container-id-1 label.sk-toggleable__label-arrow:hover:before {color: black;}#sk-container-id-1 div.sk-estimator:hover label.sk-toggleable__label-arrow:before {color: black;}#sk-container-id-1 div.sk-toggleable__content {max-height: 0;max-width: 0;overflow: hidden;text-align: left;background-color: #f0f8ff;}#sk-container-id-1 div.sk-toggleable__content pre {margin: 0.2em;color: black;border-radius: 0.25em;background-color: #f0f8ff;}#sk-container-id-1 input.sk-toggleable__control:checked~div.sk-toggleable__content {max-height: 200px;max-width: 100%;overflow: auto;}#sk-container-id-1 input.sk-toggleable__control:checked~label.sk-toggleable__label-arrow:before {content: \"▾\";}#sk-container-id-1 div.sk-estimator input.sk-toggleable__control:checked~label.sk-toggleable__label {background-color: #d4ebff;}#sk-container-id-1 div.sk-label input.sk-toggleable__control:checked~label.sk-toggleable__label {background-color: #d4ebff;}#sk-container-id-1 input.sk-hidden--visually {border: 0;clip: rect(1px 1px 1px 1px);clip: rect(1px, 1px, 1px, 1px);height: 1px;margin: -1px;overflow: hidden;padding: 0;position: absolute;width: 1px;}#sk-container-id-1 div.sk-estimator {font-family: monospace;background-color: #f0f8ff;border: 1px dotted black;border-radius: 0.25em;box-sizing: border-box;margin-bottom: 0.5em;}#sk-container-id-1 div.sk-estimator:hover {background-color: #d4ebff;}#sk-container-id-1 div.sk-parallel-item::after {content: \"\";width: 100%;border-bottom: 1px solid gray;flex-grow: 1;}#sk-container-id-1 div.sk-label:hover label.sk-toggleable__label {background-color: #d4ebff;}#sk-container-id-1 div.sk-serial::before {content: \"\";position: absolute;border-left: 1px solid gray;box-sizing: border-box;top: 0;bottom: 0;left: 50%;z-index: 0;}#sk-container-id-1 div.sk-serial {display: flex;flex-direction: column;align-items: center;background-color: white;padding-right: 0.2em;padding-left: 0.2em;position: relative;}#sk-container-id-1 div.sk-item {position: relative;z-index: 1;}#sk-container-id-1 div.sk-parallel {display: flex;align-items: stretch;justify-content: center;background-color: white;position: relative;}#sk-container-id-1 div.sk-item::before, #sk-container-id-1 div.sk-parallel-item::before {content: \"\";position: absolute;border-left: 1px solid gray;box-sizing: border-box;top: 0;bottom: 0;left: 50%;z-index: -1;}#sk-container-id-1 div.sk-parallel-item {display: flex;flex-direction: column;z-index: 1;position: relative;background-color: white;}#sk-container-id-1 div.sk-parallel-item:first-child::after {align-self: flex-end;width: 50%;}#sk-container-id-1 div.sk-parallel-item:last-child::after {align-self: flex-start;width: 50%;}#sk-container-id-1 div.sk-parallel-item:only-child::after {width: 0;}#sk-container-id-1 div.sk-dashed-wrapped {border: 1px dashed gray;margin: 0 0.4em 0.5em 0.4em;box-sizing: border-box;padding-bottom: 0.4em;background-color: white;}#sk-container-id-1 div.sk-label label {font-family: monospace;font-weight: bold;display: inline-block;line-height: 1.2em;}#sk-container-id-1 div.sk-label-container {text-align: center;}#sk-container-id-1 div.sk-container {/* jupyter's `normalize.less` sets `[hidden] { display: none; }` but bootstrap.min.css set `[hidden] { display: none !important; }` so we also need the `!important` here to be able to override the default hidden behavior on the sphinx rendered scikit-learn.org. See: https://github.com/scikit-learn/scikit-learn/issues/21755 */display: inline-block !important;position: relative;}#sk-container-id-1 div.sk-text-repr-fallback {display: none;}</style><div id=\"sk-container-id-1\" class=\"sk-top-container\"><div class=\"sk-text-repr-fallback\"><pre>RandomForestClassifier(criterion=&#x27;entropy&#x27;, n_estimators=40, random_state=0)</pre><b>In a Jupyter environment, please rerun this cell to show the HTML representation or trust the notebook. <br />On GitHub, the HTML representation is unable to render, please try loading this page with nbviewer.org.</b></div><div class=\"sk-container\" hidden><div class=\"sk-item\"><div class=\"sk-estimator sk-toggleable\"><input class=\"sk-toggleable__control sk-hidden--visually\" id=\"sk-estimator-id-1\" type=\"checkbox\" checked><label for=\"sk-estimator-id-1\" class=\"sk-toggleable__label sk-toggleable__label-arrow\">RandomForestClassifier</label><div class=\"sk-toggleable__content\"><pre>RandomForestClassifier(criterion=&#x27;entropy&#x27;, n_estimators=40, random_state=0)</pre></div></div></div></div></div>"
            ],
            "text/plain": [
              "RandomForestClassifier(criterion='entropy', n_estimators=40, random_state=0)"
            ]
          },
          "execution_count": 93,
          "metadata": {},
          "output_type": "execute_result"
        }
      ],
      "source": [
        "random_forest_covid = RandomForestClassifier(n_estimators=40, criterion='entropy', random_state=0)\n",
        "random_forest_covid.fit(x_covid_training, y_covid_training)"
      ]
    },
    {
      "cell_type": "code",
      "execution_count": 94,
      "metadata": {
        "colab": {
          "base_uri": "https://localhost:8080/"
        },
        "id": "mM98p99xFa4K",
        "outputId": "73681b60-0195-498e-b444-8d92a6eae41e"
      },
      "outputs": [
        {
          "data": {
            "text/plain": [
              "array([0, 0, 0, ..., 0, 0, 0], dtype=int64)"
            ]
          },
          "execution_count": 94,
          "metadata": {},
          "output_type": "execute_result"
        }
      ],
      "source": [
        "predict = random_forest_covid.predict(x_covid_test)\n",
        "predict"
      ]
    },
    {
      "cell_type": "code",
      "execution_count": 95,
      "metadata": {
        "colab": {
          "base_uri": "https://localhost:8080/"
        },
        "id": "gP6sfyHnITaD",
        "outputId": "dfe7979c-e762-4891-c19e-44d7fcab60d6"
      },
      "outputs": [
        {
          "data": {
            "text/plain": [
              "array([0, 0, 0, ..., 0, 0, 0], dtype=int64)"
            ]
          },
          "execution_count": 95,
          "metadata": {},
          "output_type": "execute_result"
        }
      ],
      "source": [
        "y_covid_test"
      ]
    },
    {
      "cell_type": "code",
      "execution_count": 96,
      "metadata": {
        "colab": {
          "base_uri": "https://localhost:8080/"
        },
        "id": "sF9kqYm1IWkO",
        "outputId": "468f6751-4f13-4dca-bc36-1889a35d3e57"
      },
      "outputs": [
        {
          "name": "stdout",
          "output_type": "stream",
          "text": [
            "Prediction: 97.05%\n"
          ]
        }
      ],
      "source": [
        "accuracy = accuracy_score(y_covid_test, predict)\n",
        "print(f'Prediction: {accuracy*100:.2f}%')"
      ]
    },
    {
      "cell_type": "code",
      "execution_count": 97,
      "metadata": {
        "id": "lGvuqppsLlMj"
      },
      "outputs": [],
      "source": [
        "random_case = np.random.randint(len(x_covid_test))\n",
        "sim_case = x_covid_test[random_case]\n",
        "sim_case = sim_case.reshape(1, -1)"
      ]
    },
    {
      "cell_type": "code",
      "execution_count": 98,
      "metadata": {
        "colab": {
          "base_uri": "https://localhost:8080/"
        },
        "id": "Z1H5PSpnMYkc",
        "outputId": "0c575932-049a-4c7e-a4f4-7fd57fd87e6c"
      },
      "outputs": [
        {
          "data": {
            "text/plain": [
              "array([0], dtype=int64)"
            ]
          },
          "execution_count": 98,
          "metadata": {},
          "output_type": "execute_result"
        }
      ],
      "source": [
        "random_case_predict = random_forest_covid.predict(sim_case)\n",
        "random_case_predict"
      ]
    },
    {
      "cell_type": "code",
      "execution_count": 99,
      "metadata": {
        "colab": {
          "base_uri": "https://localhost:8080/",
          "height": 496
        },
        "id": "hMzHLXg8PDBb",
        "outputId": "8c30c4b1-19ba-4a82-9062-66df615e448e"
      },
      "outputs": [
        {
          "data": {
            "text/plain": [
              "0.9705483212646715"
            ]
          },
          "execution_count": 99,
          "metadata": {},
          "output_type": "execute_result"
        },
        {
          "data": {
            "image/png": "[encoded data removed]",
            "text/plain": [
              "<Figure size 800x550 with 1 Axes>"
            ]
          },
          "metadata": {},
          "output_type": "display_data"
        }
      ],
      "source": [
        "from yellowbrick.classifier import ConfusionMatrix\n",
        "cm = ConfusionMatrix(random_forest_covid)\n",
        "cm.fit(x_covid_training, y_covid_training)\n",
        "cm.score(x_covid_test, y_covid_test)"
      ]
    }
  ],
  "metadata": {
    "colab": {
      "provenance": []
    },
    "kernelspec": {
      "display_name": "Python 3",
      "language": "python",
      "name": "python3"
    },
    "language_info": {
      "codemirror_mode": {
        "name": "ipython",
        "version": 3
      },
      "file_extension": ".py",
      "mimetype": "text/x-python",
      "name": "python",
      "nbconvert_exporter": "python",
      "pygments_lexer": "ipython3",
      "version": "3.11.0"
    },
    "orig_nbformat": 4
  },
  "nbformat": 4,
  "nbformat_minor": 0
}
